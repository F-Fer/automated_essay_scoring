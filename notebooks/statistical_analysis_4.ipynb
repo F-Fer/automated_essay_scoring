{
 "cells": [
  {
   "cell_type": "markdown",
   "metadata": {},
   "source": [
    "# Statistical Analysis Question 4\n",
    "\n",
    "This notebook investigates wether students of different levels find different aspects of writing an essay easier than others. I.e. How does the distribution of the scoring-categories differ for different final grades?*"
   ]
  },
  {
   "cell_type": "markdown",
   "metadata": {},
   "source": [
    "## Key Findings\n",
    "\n",
    "Grammar & Accuracy is consistently the most challenging component across nearly all band levels, while Task Achievement tends to be the least challenging for most students."
   ]
  },
  {
   "cell_type": "markdown",
   "metadata": {},
   "source": [
    "## Imports and Setup\n",
    "\n",
    "---"
   ]
  },
  {
   "cell_type": "code",
   "execution_count": 1,
   "metadata": {},
   "outputs": [
    {
     "name": "stdout",
     "output_type": "stream",
     "text": [
      "/Users/finnferchau/dev/team-10\n"
     ]
    }
   ],
   "source": [
    "import pandas as pd\n",
    "import numpy as np\n",
    "from os import path\n",
    "import sys\n",
    "import matplotlib.pyplot as plt\n",
    "import seaborn as sns\n",
    "\n",
    "sys.path.append(path.dirname(path.abspath(\"\")))\n",
    "project_root = path.dirname(path.abspath(\"\"))\n",
    "print(project_root)"
   ]
  },
  {
   "cell_type": "code",
   "execution_count": 2,
   "metadata": {},
   "outputs": [],
   "source": [
    "pd.options.plotting.backend = \"plotly\"\n",
    "\n",
    "# show the first 200 characters per attribute, None shows all\n",
    "pd.set_option(\"max_colwidth\", 500)"
   ]
  },
  {
   "cell_type": "markdown",
   "metadata": {},
   "source": [
    "## Data Import\n",
    "\n",
    "---\n",
    "\n",
    "Load the clustered essay dataset, which contains essays, their associated prompts, scores, and cluster assignments."
   ]
  },
  {
   "cell_type": "code",
   "execution_count": 3,
   "metadata": {},
   "outputs": [
    {
     "name": "stdout",
     "output_type": "stream",
     "text": [
      "/Users/finnferchau/dev/team-10/data/clean_clustered_train.csv\n"
     ]
    },
    {
     "data": {
      "text/html": [
       "<div>\n",
       "<style scoped>\n",
       "    .dataframe tbody tr th:only-of-type {\n",
       "        vertical-align: middle;\n",
       "    }\n",
       "\n",
       "    .dataframe tbody tr th {\n",
       "        vertical-align: top;\n",
       "    }\n",
       "\n",
       "    .dataframe thead th {\n",
       "        text-align: right;\n",
       "    }\n",
       "</style>\n",
       "<table border=\"1\" class=\"dataframe\">\n",
       "  <thead>\n",
       "    <tr style=\"text-align: right;\">\n",
       "      <th></th>\n",
       "      <th>prompt</th>\n",
       "      <th>essay</th>\n",
       "      <th>evaluation</th>\n",
       "      <th>band_score_old</th>\n",
       "      <th>task_achievement_description</th>\n",
       "      <th>task_achievement_score</th>\n",
       "      <th>coherence_and_cohesion_description</th>\n",
       "      <th>coherence_and_cohesion_score</th>\n",
       "      <th>lexical_resource_description</th>\n",
       "      <th>lexical_resource_score</th>\n",
       "      <th>grammatical_range_and_accuracy_description</th>\n",
       "      <th>grammatical_range_and_accuracy_score</th>\n",
       "      <th>overall_band_score_description</th>\n",
       "      <th>band_score</th>\n",
       "      <th>cluster</th>\n",
       "    </tr>\n",
       "  </thead>\n",
       "  <tbody>\n",
       "    <tr>\n",
       "      <th>1387</th>\n",
       "      <td>some people believe that studying at university or college is the best route to a successful career, while others believe that it is better to get a job straight after school. Discuss both views and give your opinion.</td>\n",
       "      <td>It is an ongoing argument where individuals think that having a higher education is the most ideal path to being a success. Others do not agree with this view, they are of the opinion that it is more beneficial to gain employment right after they complete high school. I concur with the second group, this essay will discuss both ideas and additionally why I hold this particular view. Firstly, the importance of attending a college cannot be gainsaid. Students in this institution dedicate at le...</td>\n",
       "      <td>### Task Achievement:\\n- The candidate has adequately addressed the given task by discussing both views on the topic and providing their own opinion.\\n- The ideas presented are clear, relevant to the task, and coherent, with each paragraph focusing on a specific aspect of the discussion.\\n- All aspects of the task have been covered, with arguments and evidence provided to support each view.\\n- Overall, the candidate has effectively fulfilled the requirements of the task.\\n- Suggested Band Sc...</td>\n",
       "      <td>8\\r\\r\\r\\r\\r\\r\\r\\r\\r</td>\n",
       "      <td>Task Achievement: - The candidate has adequately addressed the given task by discussing both views on the topic and providing their own opinion. - The ideas presented are clear, relevant to the task, and coherent, with each paragraph focusing on a specific aspect of the discussion. - All aspects of the task have been covered, with arguments and evidence provided to support each view. - Overall, the candidate has effectively fulfilled the requirements of the task. - Suggested Band Score: 8 ###</td>\n",
       "      <td>8.0</td>\n",
       "      <td>Coherence and Cohesion: - The essay is well-organized, with clear transitions between sentences and paragraphs. - Connecting words and phrases are effectively used to maintain a smooth progression of ideas. - The logical sequence and arrangement of information throughout the essay are maintained. - However, there is a minor lack of coherence in the conclusion, which could be improved by restating the main points of the discussion and reinforcing the candidate's opinion. - Suggested Band Scor...</td>\n",
       "      <td>7.5</td>\n",
       "      <td>Lexical Resource (Vocabulary): - The candidate demonstrates a good range of vocabulary, but there are some inaccuracies and overuse of certain words. - For example, \"gainsaid\" is an uncommon word that may not be familiar to all readers, and \"organized institutions\" is a somewhat vague term. - The candidate could benefit from using more precise and varied vocabulary, such as \"undeniable\" instead of \"gainsaid\" and \"educational institutions\" instead of \"organized institutions.\" - Overall, the c...</td>\n",
       "      <td>7.0</td>\n",
       "      <td>Grammatical Range and Accuracy: - The candidate demonstrates a good range of sentence structures, but there are some grammatical errors. - For example, \"It gives young folks the opportunity to grow and gain practical skills\" should be \"It gives young people the opportunity to grow and gain practical skills.\" - Additionally, there is a lack of variety in sentence structure, with most sentences following a simple subject-verb-object pattern. - The candidate could benefit from using more comple...</td>\n",
       "      <td>7.0</td>\n",
       "      <td>Overall Band Score: - Considering the holistic performance across all criteria, the essay receives an overall band score of 8. - The essay effectively addresses the task, presents clear and coherent ideas, demonstrates a good range of vocabulary (with some inaccuracies), and has a generally good grammatical structure (with some errors). - Overall, the essay meets the requirements of a Band 8 essay. ### Feedback and Additional Comments: - Strengths: - Clear and well-organized discussion of bo...</td>\n",
       "      <td>8.0</td>\n",
       "      <td>2</td>\n",
       "    </tr>\n",
       "    <tr>\n",
       "      <th>5086</th>\n",
       "      <td>Some people believe that the best way to improve public health is by increasing the number of sports facilities. Others think that this has little effects and measures are required. Discuss both views and give your opinion.</td>\n",
       "      <td>People hold different views about whether an increasing number of sports facilities come in handy to improve public health or this method is not very effective and it requires measures. From my standpoint, the better the sports conveniences where, the better the public health there. It has been proven that people can improve health of themselves without sports facilities. For instance, they can be much healthier if they avoid eating too much junk food. If he or she is inclined to eat meals t...</td>\n",
       "      <td>**Task Achievement:**\\n\\nThe essay adequately addresses the task by discussing both views on the effectiveness of sports facilities in improving public health. The candidate covers all aspects of the task and provides relevant arguments and evidence. However, the essay lacks depth and fails to fully explore the complexity of the issue.\\n\\nSuggested Band Score: 7\\n\\n**Coherence and Cohesion:**\\n\\nThe essay is generally coherent and cohesive, with clear transitions between sentences and paragr...</td>\n",
       "      <td>7.5\\r\\r\\r\\r</td>\n",
       "      <td>Task Achievement:** The essay adequately addresses the task by discussing both views on the effectiveness of sports facilities in improving public health. The candidate covers all aspects of the task and provides relevant arguments and evidence. However, the essay lacks depth and fails to fully explore the complexity of the issue. Suggested Band Score: 7 **</td>\n",
       "      <td>7.0</td>\n",
       "      <td>Coherence and Cohesion:** The essay is generally coherent and cohesive, with clear transitions between sentences and paragraphs. However, the organization of ideas could be improved. The introduction and conclusion are somewhat weak and do not provide a strong framework for the essay. Suggested Band Score: 7 **</td>\n",
       "      <td>7.0</td>\n",
       "      <td>Lexical Resource (Vocabulary):** The essay demonstrates a limited range of vocabulary, with repetitive use of certain words and phrases. There are also some inaccuracies and inappropriate word choices. For example, \"conveniences\" is used repeatedly to refer to sports facilities, which is not grammatically correct. Suggested Band Score: 6.5 **</td>\n",
       "      <td>6.5</td>\n",
       "      <td>Grammatical Range and Accuracy:** The essay exhibits a variety of sentence structures, but there are some grammatical errors. For example, \"No sooner do authorities constitute sports facilities, then they will reap benefits from them\" is grammatically incorrect. Additionally, punctuation is used incorrectly in some places. Suggested Band Score: 6.5 **</td>\n",
       "      <td>6.5</td>\n",
       "      <td>Overall Band Score:** Based on the four criteria, the overall band score for this essay is **7.5**. The essay addresses the task adequately, but lacks depth and organization. The language used is somewhat limited and there are some grammatical errors. **Feedback and Additional Comments:** * **Strengths:** Clear discussion of both views, relevant arguments and evidence. * **Areas for improvement:** Depth of analysis, organization of ideas, vocabulary range and accuracy, grammatical accuracy. ...</td>\n",
       "      <td>7.5</td>\n",
       "      <td>3</td>\n",
       "    </tr>\n",
       "    <tr>\n",
       "      <th>3642</th>\n",
       "      <td>Nowdays , more and more people decide to have children at a later age . what do you think that are the major reason for this ? Do the advantages of this trend outweigh disadvantages ?</td>\n",
       "      <td>In this current era , there is no doubt about the fact that having children at a later age become quite common . In this essay , I will discuss the major reasons behind this trend and explain whether it has more benefits or drawbacks. To start with , the reasons why the masses do not like to have children at an early age . The first reason behind this seems to be saving money for their children and also trying to make themselves successful first . By , this I mean that if people only focus o...</td>\n",
       "      <td>### Task Achievement: 7.5\\n\\nThe candidate has adequately addressed the task by identifying the major reasons for having children at a later age and discussing the advantages and disadvantages of this trend. However, the essay lacks a clear structure and organization, as it does not have a proper introduction, body paragraphs, and conclusion. Additionally, the essay does not provide specific examples or evidence to support the arguments presented.\\n\\n### Coherence and Cohesion: 6.5\\n\\nThe es...</td>\n",
       "      <td>8\\r</td>\n",
       "      <td>Task Achievement: 7.5 The candidate has adequately addressed the task by identifying the major reasons for having children at a later age and discussing the advantages and disadvantages of this trend. However, the essay lacks a clear structure and organization, as it does not have a proper introduction, body paragraphs, and conclusion. Additionally, the essay does not provide specific examples or evidence to support the arguments presented. ###</td>\n",
       "      <td>7.5</td>\n",
       "      <td>Coherence and Cohesion: 6.5 The essay lacks coherence and cohesion. The transitions between sentences and paragraphs are not clear, and the ideas presented are not always logically connected. The essay also suffers from a lack of connecting words and phrases, which makes it difficult to follow the flow of thought. ###</td>\n",
       "      <td>6.5</td>\n",
       "      <td>Lexical Resource (Vocabulary): 6.0 The candidate's use of vocabulary is limited and repetitive. There are several instances of incorrect word usage and inaccuracies in grammar. For example, \"the masses\" is used excessively throughout the essay. The essay also lacks a variety of sentence structures and uses simple and basic language. ###</td>\n",
       "      <td>6.0</td>\n",
       "      <td>Grammatical Range and Accuracy: 6.0 The essay contains several grammatical errors, including incorrect verb forms and sentence construction. The use of punctuation is also inconsistent. For example, there is a missing comma after \"Furthermore\" in the third paragraph. ###</td>\n",
       "      <td>6.0</td>\n",
       "      <td>Overall Band Score: 6.5 The overall band score for this essay is 6.5. While the candidate has addressed the task and discussed the advantages and disadvantages of having children at a later age, the essay lacks a clear structure, coherence, and grammatical accuracy. The candidate should focus on improving their organization, use of connecting words and phrases, vocabulary, and grammar to achieve a higher band score. ### Feedback and Additional Comments: **Strengths:** * The candidate has ide...</td>\n",
       "      <td>6.5</td>\n",
       "      <td>4</td>\n",
       "    </tr>\n",
       "    <tr>\n",
       "      <th>4287</th>\n",
       "      <td>Some people think that the best way to solve global environmental problems is to increase the cost of fuel. To what extent do you agree or disagree?</td>\n",
       "      <td>Our mother Earth is currently facing a lot of environmental concerns.Some people believe that by increasing the fee of fuel we would be able to resolve these issues. In my opinion, it may help to some extant, however, this is not the only solution to clear up this problem.To begin with, people from driving their cars release carbon dioxide into the atmosphere which is detrimental to the environment. That is, increasing the fare of has can help make people run their own vehicles less often an...</td>\n",
       "      <td>### Task Achievement: \\n- The candidate has adequately addressed the task by presenting arguments for and against the view that increasing the cost of fuel is the best way to solve global environmental problems.\\n- The response is clear and coherent, with ideas presented in a logical order. However, the candidate could have provided more specific examples to support their arguments.\\n- Suggested Band Score: 7\\n\\n### Coherence and Cohesion: \\n- The essay is well-organized, with clear transiti...</td>\n",
       "      <td>7.5\\r\\r\\r\\r\\r\\r\\r\\r</td>\n",
       "      <td>Task Achievement: - The candidate has adequately addressed the task by presenting arguments for and against the view that increasing the cost of fuel is the best way to solve global environmental problems. - The response is clear and coherent, with ideas presented in a logical order. However, the candidate could have provided more specific examples to support their arguments. - Suggested Band Score: 7 ###</td>\n",
       "      <td>7.0</td>\n",
       "      <td>Coherence and Cohesion: - The essay is well-organized, with clear transitions between paragraphs. - The use of linking devices, such as \"however\" and \"moreover,\" helps to connect ideas and create a logical flow of information. - Suggested Band Score: 7.5 ###</td>\n",
       "      <td>7.5</td>\n",
       "      <td>Lexical Resource (Vocabulary): - The candidate demonstrates a good range of vocabulary, using words such as \"detrimental,\" \"compelling,\" and \"appropriate.\" - However, there are a few errors in vocabulary, such as the use of \"fee\" instead of \"cost\" and \"run their own vehicles\" instead of \"drive their cars.\" - Suggested Band Score: 7 ###</td>\n",
       "      <td>7.0</td>\n",
       "      <td>Grammatical Range and Accuracy: - The candidate demonstrates a good range of sentence structures, including complex and compound sentences. - However, there are a few grammatical errors, such as the use of \"hiking\" instead of \"increasing\" and \"weak and middle class family\" instead of \"low- and middle-income families.\" - Suggested Band Score: 7 ###</td>\n",
       "      <td>7.0</td>\n",
       "      <td>Overall Band Score: - Considering the holistic performance across all criteria, the essay is of a good quality. The candidate has addressed the task adequately, presented a coherent and cohesive response, and demonstrated a good range of vocabulary and grammar. - Suggested Overall Band Score: 7.5 ### Feedback and Additional Comments: - **Strengths:** The essay is well-organized and clearly written. The candidate has presented a balanced argument, considering both the advantages and disadvant...</td>\n",
       "      <td>7.5</td>\n",
       "      <td>8</td>\n",
       "    </tr>\n",
       "    <tr>\n",
       "      <th>7569</th>\n",
       "      <td>Some people think that one of the best ways to solve environmental problems is to increase the cost of fuel for cars and other vehicles to what extent do you agree or disagree ?</td>\n",
       "      <td>A highly controversial issue today relates to whether to solve environmental destruction or not. In this essay, I am going to examine the question from both points of view and then explain why I believe that raising fuel prices is crucial and indeed in today's world in order to protect the natural habitat. to begin with, There are copious folks who argue that the benefits of elevating the petrol cost for all various types of transportation considerably outweigh its disadvantages. The main re...</td>\n",
       "      <td>## Task Achievement:\\n- The candidate has effectively addressed the given task by presenting a balanced analysis of the arguments for and against increasing fuel costs to address environmental problems.\\n- The essay demonstrates a clear understanding of the task and addresses all aspects of the prompt.\\n- The candidate provides relevant and coherent arguments, supported by specific examples and evidence.\\n- **Suggested Band Score (Task Achievement): 8.5**\\n\\n## Coherence and Cohesion:\\n- The...</td>\n",
       "      <td>8.5\\r</td>\n",
       "      <td>Task Achievement: - The candidate has effectively addressed the given task by presenting a balanced analysis of the arguments for and against increasing fuel costs to address environmental problems. - The essay demonstrates a clear understanding of the task and addresses all aspects of the prompt. - The candidate provides relevant and coherent arguments, supported by specific examples and evidence. - **Suggested Band Score (Task Achievement): 8.5** ##</td>\n",
       "      <td>8.5</td>\n",
       "      <td>Coherence and Cohesion: - The essay is well-organized, with logical transitions and a clear progression of ideas. - Connecting words and phrases are used effectively to maintain a smooth flow of information. - The candidate effectively structures the essay into paragraphs, each of which focuses on a specific aspect of the topic. - **Suggested Band Score (Coherence and Cohesion): 8.0** ##</td>\n",
       "      <td>8.0</td>\n",
       "      <td>Lexical Resource (Vocabulary): - The candidate demonstrates a good range of vocabulary, using a variety of words and phrases to express ideas. - There are a few instances of inaccurate vocabulary usage, such as \"heavily rely on transportation\" instead of \"heavily dependent on transportation.\" - **Suggested Band Score (Lexical Resource): 7.5** ##</td>\n",
       "      <td>7.5</td>\n",
       "      <td>Grammatical Range and Accuracy: - The essay exhibits a variety of sentence structures, including complex and compound sentences. - There are some grammatical errors, such as \"we need to consider other approaches such as environmentally friendly vehicles owing to save the planet\" (missing \"in order to\"). - **Suggested Band Score (Grammatical Range and Accuracy): 8.0** ##</td>\n",
       "      <td>8.0</td>\n",
       "      <td>Overall Band Score: - Taking into account the performance across all criteria, the essay is well-written and effectively addresses the task. - The candidate demonstrates a good command of English and has a clear understanding of the topic. - **Suggested Overall Band Score: 8.5** ## Feedback and Additional Comments: **Strengths:** - The essay is well-structured and coherent, with clear transitions and a logical flow of ideas. - The candidate provides relevant and persuasive arguments, support...</td>\n",
       "      <td>8.5</td>\n",
       "      <td>8</td>\n",
       "    </tr>\n",
       "  </tbody>\n",
       "</table>\n",
       "</div>"
      ],
      "text/plain": [
       "                                                                                                                                                                                                                               prompt  \\\n",
       "1387        some people believe that studying at university or college is the best route to a successful career, while others believe that it is better to get a job straight after school. Discuss both views and give your opinion.   \n",
       "5086  Some people believe that the best way to improve public health is by increasing the number of sports facilities. Others think that this has little effects and measures are required. Discuss both views and give your opinion.   \n",
       "3642                                          Nowdays , more and more people decide to have children at a later age . what do you think that are the major reason for this ? Do the advantages of this trend outweigh disadvantages ?   \n",
       "4287                                                                             Some people think that the best way to solve global environmental problems is to increase the cost of fuel. To what extent do you agree or disagree?   \n",
       "7569                                                Some people think that one of the best ways to solve environmental problems is to increase the cost of fuel for cars and other vehicles to what extent do you agree or disagree ?   \n",
       "\n",
       "                                                                                                                                                                                                                                                                                                                                                                                                                                                                                                                    essay  \\\n",
       "1387  It is an ongoing argument where individuals think that having a higher education is the most ideal path to being a success. Others do not agree with this view, they are of the opinion that it is more beneficial to gain employment right after they complete high school. I concur with the second group, this essay will discuss both ideas and additionally why I hold this particular view. Firstly, the importance of attending a college cannot be gainsaid. Students in this institution dedicate at le...   \n",
       "5086  People hold different views about whether an increasing number of sports facilities come in handy to improve public health or this method is not very effective and it requires measures. From my standpoint, the better the sports conveniences where, the better the public health there. It has been proven that people can improve health of themselves without sports facilities. For instance, they can be much healthier if they avoid eating too much junk food. If he or she is inclined to eat meals t...   \n",
       "3642  In this current era , there is no doubt about the fact that having children at a later age become quite common . In this essay , I will discuss the major reasons behind this trend and explain whether it has more benefits or drawbacks. To start with , the reasons why the masses do not like to have children at an early age . The first reason behind this seems to be saving money for their children and also trying to make themselves successful first . By , this I mean that if people only focus o...   \n",
       "4287  Our mother Earth is currently facing a lot of environmental concerns.Some people believe that by increasing the fee of fuel we would be able to resolve these issues. In my opinion, it may help to some extant, however, this is not the only solution to clear up this problem.To begin with, people from driving their cars release carbon dioxide into the atmosphere which is detrimental to the environment. That is, increasing the fare of has can help make people run their own vehicles less often an...   \n",
       "7569  A highly controversial issue today relates to whether to solve environmental destruction or not. In this essay, I am going to examine the question from both points of view and then explain why I believe that raising fuel prices is crucial and indeed in today's world in order to protect the natural habitat. to begin with, There are copious folks who argue that the benefits of elevating the petrol cost for all various types of transportation considerably outweigh its disadvantages. The main re...   \n",
       "\n",
       "                                                                                                                                                                                                                                                                                                                                                                                                                                                                                                               evaluation  \\\n",
       "1387  ### Task Achievement:\\n- The candidate has adequately addressed the given task by discussing both views on the topic and providing their own opinion.\\n- The ideas presented are clear, relevant to the task, and coherent, with each paragraph focusing on a specific aspect of the discussion.\\n- All aspects of the task have been covered, with arguments and evidence provided to support each view.\\n- Overall, the candidate has effectively fulfilled the requirements of the task.\\n- Suggested Band Sc...   \n",
       "5086  **Task Achievement:**\\n\\nThe essay adequately addresses the task by discussing both views on the effectiveness of sports facilities in improving public health. The candidate covers all aspects of the task and provides relevant arguments and evidence. However, the essay lacks depth and fails to fully explore the complexity of the issue.\\n\\nSuggested Band Score: 7\\n\\n**Coherence and Cohesion:**\\n\\nThe essay is generally coherent and cohesive, with clear transitions between sentences and paragr...   \n",
       "3642  ### Task Achievement: 7.5\\n\\nThe candidate has adequately addressed the task by identifying the major reasons for having children at a later age and discussing the advantages and disadvantages of this trend. However, the essay lacks a clear structure and organization, as it does not have a proper introduction, body paragraphs, and conclusion. Additionally, the essay does not provide specific examples or evidence to support the arguments presented.\\n\\n### Coherence and Cohesion: 6.5\\n\\nThe es...   \n",
       "4287  ### Task Achievement: \\n- The candidate has adequately addressed the task by presenting arguments for and against the view that increasing the cost of fuel is the best way to solve global environmental problems.\\n- The response is clear and coherent, with ideas presented in a logical order. However, the candidate could have provided more specific examples to support their arguments.\\n- Suggested Band Score: 7\\n\\n### Coherence and Cohesion: \\n- The essay is well-organized, with clear transiti...   \n",
       "7569  ## Task Achievement:\\n- The candidate has effectively addressed the given task by presenting a balanced analysis of the arguments for and against increasing fuel costs to address environmental problems.\\n- The essay demonstrates a clear understanding of the task and addresses all aspects of the prompt.\\n- The candidate provides relevant and coherent arguments, supported by specific examples and evidence.\\n- **Suggested Band Score (Task Achievement): 8.5**\\n\\n## Coherence and Cohesion:\\n- The...   \n",
       "\n",
       "           band_score_old  \\\n",
       "1387  8\\r\\r\\r\\r\\r\\r\\r\\r\\r   \n",
       "5086          7.5\\r\\r\\r\\r   \n",
       "3642                  8\\r   \n",
       "4287  7.5\\r\\r\\r\\r\\r\\r\\r\\r   \n",
       "7569                8.5\\r   \n",
       "\n",
       "                                                                                                                                                                                                                                                                                                                                                                                                                                                                                           task_achievement_description  \\\n",
       "1387  Task Achievement: - The candidate has adequately addressed the given task by discussing both views on the topic and providing their own opinion. - The ideas presented are clear, relevant to the task, and coherent, with each paragraph focusing on a specific aspect of the discussion. - All aspects of the task have been covered, with arguments and evidence provided to support each view. - Overall, the candidate has effectively fulfilled the requirements of the task. - Suggested Band Score: 8 ###   \n",
       "5086                                                                                                                                            Task Achievement:** The essay adequately addresses the task by discussing both views on the effectiveness of sports facilities in improving public health. The candidate covers all aspects of the task and provides relevant arguments and evidence. However, the essay lacks depth and fails to fully explore the complexity of the issue. Suggested Band Score: 7 **   \n",
       "3642                                                   Task Achievement: 7.5 The candidate has adequately addressed the task by identifying the major reasons for having children at a later age and discussing the advantages and disadvantages of this trend. However, the essay lacks a clear structure and organization, as it does not have a proper introduction, body paragraphs, and conclusion. Additionally, the essay does not provide specific examples or evidence to support the arguments presented. ###   \n",
       "4287                                                                                           Task Achievement: - The candidate has adequately addressed the task by presenting arguments for and against the view that increasing the cost of fuel is the best way to solve global environmental problems. - The response is clear and coherent, with ideas presented in a logical order. However, the candidate could have provided more specific examples to support their arguments. - Suggested Band Score: 7 ###   \n",
       "7569                                            Task Achievement: - The candidate has effectively addressed the given task by presenting a balanced analysis of the arguments for and against increasing fuel costs to address environmental problems. - The essay demonstrates a clear understanding of the task and addresses all aspects of the prompt. - The candidate provides relevant and coherent arguments, supported by specific examples and evidence. - **Suggested Band Score (Task Achievement): 8.5** ##   \n",
       "\n",
       "      task_achievement_score  \\\n",
       "1387                     8.0   \n",
       "5086                     7.0   \n",
       "3642                     7.5   \n",
       "4287                     7.0   \n",
       "7569                     8.5   \n",
       "\n",
       "                                                                                                                                                                                                                                                                                                                                                                                                                                                                                       coherence_and_cohesion_description  \\\n",
       "1387  Coherence and Cohesion: - The essay is well-organized, with clear transitions between sentences and paragraphs. - Connecting words and phrases are effectively used to maintain a smooth progression of ideas. - The logical sequence and arrangement of information throughout the essay are maintained. - However, there is a minor lack of coherence in the conclusion, which could be improved by restating the main points of the discussion and reinforcing the candidate's opinion. - Suggested Band Scor...   \n",
       "5086                                                                                                                                                                                             Coherence and Cohesion:** The essay is generally coherent and cohesive, with clear transitions between sentences and paragraphs. However, the organization of ideas could be improved. The introduction and conclusion are somewhat weak and do not provide a strong framework for the essay. Suggested Band Score: 7 **   \n",
       "3642                                                                                                                                                                                      Coherence and Cohesion: 6.5 The essay lacks coherence and cohesion. The transitions between sentences and paragraphs are not clear, and the ideas presented are not always logically connected. The essay also suffers from a lack of connecting words and phrases, which makes it difficult to follow the flow of thought. ###   \n",
       "4287                                                                                                                                                                                                                                                   Coherence and Cohesion: - The essay is well-organized, with clear transitions between paragraphs. - The use of linking devices, such as \"however\" and \"moreover,\" helps to connect ideas and create a logical flow of information. - Suggested Band Score: 7.5 ###   \n",
       "7569                                                                                                               Coherence and Cohesion: - The essay is well-organized, with logical transitions and a clear progression of ideas. - Connecting words and phrases are used effectively to maintain a smooth flow of information. - The candidate effectively structures the essay into paragraphs, each of which focuses on a specific aspect of the topic. - **Suggested Band Score (Coherence and Cohesion): 8.0** ##   \n",
       "\n",
       "      coherence_and_cohesion_score  \\\n",
       "1387                           7.5   \n",
       "5086                           7.0   \n",
       "3642                           6.5   \n",
       "4287                           7.5   \n",
       "7569                           8.0   \n",
       "\n",
       "                                                                                                                                                                                                                                                                                                                                                                                                                                                                                             lexical_resource_description  \\\n",
       "1387  Lexical Resource (Vocabulary): - The candidate demonstrates a good range of vocabulary, but there are some inaccuracies and overuse of certain words. - For example, \"gainsaid\" is an uncommon word that may not be familiar to all readers, and \"organized institutions\" is a somewhat vague term. - The candidate could benefit from using more precise and varied vocabulary, such as \"undeniable\" instead of \"gainsaid\" and \"educational institutions\" instead of \"organized institutions.\" - Overall, the c...   \n",
       "5086                                                                                                                                                             Lexical Resource (Vocabulary):** The essay demonstrates a limited range of vocabulary, with repetitive use of certain words and phrases. There are also some inaccuracies and inappropriate word choices. For example, \"conveniences\" is used repeatedly to refer to sports facilities, which is not grammatically correct. Suggested Band Score: 6.5 **   \n",
       "3642                                                                                                                                                                   Lexical Resource (Vocabulary): 6.0 The candidate's use of vocabulary is limited and repetitive. There are several instances of incorrect word usage and inaccuracies in grammar. For example, \"the masses\" is used excessively throughout the essay. The essay also lacks a variety of sentence structures and uses simple and basic language. ###   \n",
       "4287                                                                                                                                                                    Lexical Resource (Vocabulary): - The candidate demonstrates a good range of vocabulary, using words such as \"detrimental,\" \"compelling,\" and \"appropriate.\" - However, there are a few errors in vocabulary, such as the use of \"fee\" instead of \"cost\" and \"run their own vehicles\" instead of \"drive their cars.\" - Suggested Band Score: 7 ###   \n",
       "7569                                                                                                                                                          Lexical Resource (Vocabulary): - The candidate demonstrates a good range of vocabulary, using a variety of words and phrases to express ideas. - There are a few instances of inaccurate vocabulary usage, such as \"heavily rely on transportation\" instead of \"heavily dependent on transportation.\" - **Suggested Band Score (Lexical Resource): 7.5** ##   \n",
       "\n",
       "      lexical_resource_score  \\\n",
       "1387                     7.0   \n",
       "5086                     6.5   \n",
       "3642                     6.0   \n",
       "4287                     7.0   \n",
       "7569                     7.5   \n",
       "\n",
       "                                                                                                                                                                                                                                                                                                                                                                                                                                                                               grammatical_range_and_accuracy_description  \\\n",
       "1387  Grammatical Range and Accuracy: - The candidate demonstrates a good range of sentence structures, but there are some grammatical errors. - For example, \"It gives young folks the opportunity to grow and gain practical skills\" should be \"It gives young people the opportunity to grow and gain practical skills.\" - Additionally, there is a lack of variety in sentence structure, with most sentences following a simple subject-verb-object pattern. - The candidate could benefit from using more comple...   \n",
       "5086                                                                                                                                                    Grammatical Range and Accuracy:** The essay exhibits a variety of sentence structures, but there are some grammatical errors. For example, \"No sooner do authorities constitute sports facilities, then they will reap benefits from them\" is grammatically incorrect. Additionally, punctuation is used incorrectly in some places. Suggested Band Score: 6.5 **   \n",
       "3642                                                                                                                                                                                                                                      Grammatical Range and Accuracy: 6.0 The essay contains several grammatical errors, including incorrect verb forms and sentence construction. The use of punctuation is also inconsistent. For example, there is a missing comma after \"Furthermore\" in the third paragraph. ###   \n",
       "4287                                                                                                                                                        Grammatical Range and Accuracy: - The candidate demonstrates a good range of sentence structures, including complex and compound sentences. - However, there are a few grammatical errors, such as the use of \"hiking\" instead of \"increasing\" and \"weak and middle class family\" instead of \"low- and middle-income families.\" - Suggested Band Score: 7 ###   \n",
       "7569                                                                                                                                 Grammatical Range and Accuracy: - The essay exhibits a variety of sentence structures, including complex and compound sentences. - There are some grammatical errors, such as \"we need to consider other approaches such as environmentally friendly vehicles owing to save the planet\" (missing \"in order to\"). - **Suggested Band Score (Grammatical Range and Accuracy): 8.0** ##   \n",
       "\n",
       "      grammatical_range_and_accuracy_score  \\\n",
       "1387                                   7.0   \n",
       "5086                                   6.5   \n",
       "3642                                   6.0   \n",
       "4287                                   7.0   \n",
       "7569                                   8.0   \n",
       "\n",
       "                                                                                                                                                                                                                                                                                                                                                                                                                                                                                           overall_band_score_description  \\\n",
       "1387  Overall Band Score: - Considering the holistic performance across all criteria, the essay receives an overall band score of 8. - The essay effectively addresses the task, presents clear and coherent ideas, demonstrates a good range of vocabulary (with some inaccuracies), and has a generally good grammatical structure (with some errors). - Overall, the essay meets the requirements of a Band 8 essay. ### Feedback and Additional Comments: - Strengths: - Clear and well-organized discussion of bo...   \n",
       "5086  Overall Band Score:** Based on the four criteria, the overall band score for this essay is **7.5**. The essay addresses the task adequately, but lacks depth and organization. The language used is somewhat limited and there are some grammatical errors. **Feedback and Additional Comments:** * **Strengths:** Clear discussion of both views, relevant arguments and evidence. * **Areas for improvement:** Depth of analysis, organization of ideas, vocabulary range and accuracy, grammatical accuracy. ...   \n",
       "3642  Overall Band Score: 6.5 The overall band score for this essay is 6.5. While the candidate has addressed the task and discussed the advantages and disadvantages of having children at a later age, the essay lacks a clear structure, coherence, and grammatical accuracy. The candidate should focus on improving their organization, use of connecting words and phrases, vocabulary, and grammar to achieve a higher band score. ### Feedback and Additional Comments: **Strengths:** * The candidate has ide...   \n",
       "4287  Overall Band Score: - Considering the holistic performance across all criteria, the essay is of a good quality. The candidate has addressed the task adequately, presented a coherent and cohesive response, and demonstrated a good range of vocabulary and grammar. - Suggested Overall Band Score: 7.5 ### Feedback and Additional Comments: - **Strengths:** The essay is well-organized and clearly written. The candidate has presented a balanced argument, considering both the advantages and disadvant...   \n",
       "7569  Overall Band Score: - Taking into account the performance across all criteria, the essay is well-written and effectively addresses the task. - The candidate demonstrates a good command of English and has a clear understanding of the topic. - **Suggested Overall Band Score: 8.5** ## Feedback and Additional Comments: **Strengths:** - The essay is well-structured and coherent, with clear transitions and a logical flow of ideas. - The candidate provides relevant and persuasive arguments, support...   \n",
       "\n",
       "      band_score  cluster  \n",
       "1387         8.0        2  \n",
       "5086         7.5        3  \n",
       "3642         6.5        4  \n",
       "4287         7.5        8  \n",
       "7569         8.5        8  "
      ]
     },
     "execution_count": 3,
     "metadata": {},
     "output_type": "execute_result"
    }
   ],
   "source": [
    "csv_file = \"/data/clean_clustered_train.csv\"\n",
    "csv_file_path = project_root + csv_file\n",
    "print(csv_file_path)\n",
    "\n",
    "df = pd.read_csv(csv_file_path)\n",
    "df.sample(5)"
   ]
  },
  {
   "cell_type": "markdown",
   "metadata": {},
   "source": [
    "## First Lets look at the Band Score Distribution Overall\n",
    "\n",
    "---"
   ]
  },
  {
   "cell_type": "code",
   "execution_count": 4,
   "metadata": {},
   "outputs": [
    {
     "name": "stdout",
     "output_type": "stream",
     "text": [
      "Mean band score: 6.25\n",
      "Median band score: 6.50\n",
      "Min band score: 4.00\n",
      "Max band score: 8.50\n"
     ]
    }
   ],
   "source": [
    "# Create a frequency count of band scores\n",
    "band_counts = df[\"band_score\"].value_counts().sort_index()\n",
    "\n",
    "# Get some basic statistics\n",
    "print(f\"Mean band score: {df['band_score'].mean():.2f}\")\n",
    "print(f\"Median band score: {df['band_score'].median():.2f}\")\n",
    "print(f\"Min band score: {df['band_score'].min():.2f}\")\n",
    "print(f\"Max band score: {df['band_score'].max():.2f}\")"
   ]
  },
  {
   "cell_type": "code",
   "execution_count": 5,
   "metadata": {},
   "outputs": [
    {
     "data": {
      "application/vnd.plotly.v1+json": {
       "config": {
        "plotlyServerURL": "https://plot.ly"
       },
       "data": [
        {
         "hovertemplate": "variable=count<br>band_score=%{x}<br>value=%{y}<extra></extra>",
         "legendgroup": "count",
         "marker": {
          "color": "#636efa",
          "pattern": {
           "shape": ""
          }
         },
         "name": "count",
         "orientation": "v",
         "showlegend": true,
         "textposition": "auto",
         "type": "bar",
         "x": {
          "bdata": "AAAAAAAAEEAAAAAAAAASQAAAAAAAABRAAAAAAAAAFkAAAAAAAAAYQAAAAAAAABpAAAAAAAAAHEAAAAAAAAAeQAAAAAAAACBAAAAAAAAAIUA=",
          "dtype": "f8"
         },
         "xaxis": "x",
         "y": {
          "bdata": "UQMsAhwCeANfBdUFIwVyBOgBlgE=",
          "dtype": "i2"
         },
         "yaxis": "y"
        }
       ],
       "layout": {
        "barmode": "relative",
        "legend": {
         "title": {
          "text": "variable"
         },
         "tracegroupgap": 0
        },
        "margin": {
         "t": 60
        },
        "template": {
         "data": {
          "bar": [
           {
            "error_x": {
             "color": "#2a3f5f"
            },
            "error_y": {
             "color": "#2a3f5f"
            },
            "marker": {
             "line": {
              "color": "#E5ECF6",
              "width": 0.5
             },
             "pattern": {
              "fillmode": "overlay",
              "size": 10,
              "solidity": 0.2
             }
            },
            "type": "bar"
           }
          ],
          "barpolar": [
           {
            "marker": {
             "line": {
              "color": "#E5ECF6",
              "width": 0.5
             },
             "pattern": {
              "fillmode": "overlay",
              "size": 10,
              "solidity": 0.2
             }
            },
            "type": "barpolar"
           }
          ],
          "carpet": [
           {
            "aaxis": {
             "endlinecolor": "#2a3f5f",
             "gridcolor": "white",
             "linecolor": "white",
             "minorgridcolor": "white",
             "startlinecolor": "#2a3f5f"
            },
            "baxis": {
             "endlinecolor": "#2a3f5f",
             "gridcolor": "white",
             "linecolor": "white",
             "minorgridcolor": "white",
             "startlinecolor": "#2a3f5f"
            },
            "type": "carpet"
           }
          ],
          "choropleth": [
           {
            "colorbar": {
             "outlinewidth": 0,
             "ticks": ""
            },
            "type": "choropleth"
           }
          ],
          "contour": [
           {
            "colorbar": {
             "outlinewidth": 0,
             "ticks": ""
            },
            "colorscale": [
             [
              0,
              "#0d0887"
             ],
             [
              0.1111111111111111,
              "#46039f"
             ],
             [
              0.2222222222222222,
              "#7201a8"
             ],
             [
              0.3333333333333333,
              "#9c179e"
             ],
             [
              0.4444444444444444,
              "#bd3786"
             ],
             [
              0.5555555555555556,
              "#d8576b"
             ],
             [
              0.6666666666666666,
              "#ed7953"
             ],
             [
              0.7777777777777778,
              "#fb9f3a"
             ],
             [
              0.8888888888888888,
              "#fdca26"
             ],
             [
              1,
              "#f0f921"
             ]
            ],
            "type": "contour"
           }
          ],
          "contourcarpet": [
           {
            "colorbar": {
             "outlinewidth": 0,
             "ticks": ""
            },
            "type": "contourcarpet"
           }
          ],
          "heatmap": [
           {
            "colorbar": {
             "outlinewidth": 0,
             "ticks": ""
            },
            "colorscale": [
             [
              0,
              "#0d0887"
             ],
             [
              0.1111111111111111,
              "#46039f"
             ],
             [
              0.2222222222222222,
              "#7201a8"
             ],
             [
              0.3333333333333333,
              "#9c179e"
             ],
             [
              0.4444444444444444,
              "#bd3786"
             ],
             [
              0.5555555555555556,
              "#d8576b"
             ],
             [
              0.6666666666666666,
              "#ed7953"
             ],
             [
              0.7777777777777778,
              "#fb9f3a"
             ],
             [
              0.8888888888888888,
              "#fdca26"
             ],
             [
              1,
              "#f0f921"
             ]
            ],
            "type": "heatmap"
           }
          ],
          "histogram": [
           {
            "marker": {
             "pattern": {
              "fillmode": "overlay",
              "size": 10,
              "solidity": 0.2
             }
            },
            "type": "histogram"
           }
          ],
          "histogram2d": [
           {
            "colorbar": {
             "outlinewidth": 0,
             "ticks": ""
            },
            "colorscale": [
             [
              0,
              "#0d0887"
             ],
             [
              0.1111111111111111,
              "#46039f"
             ],
             [
              0.2222222222222222,
              "#7201a8"
             ],
             [
              0.3333333333333333,
              "#9c179e"
             ],
             [
              0.4444444444444444,
              "#bd3786"
             ],
             [
              0.5555555555555556,
              "#d8576b"
             ],
             [
              0.6666666666666666,
              "#ed7953"
             ],
             [
              0.7777777777777778,
              "#fb9f3a"
             ],
             [
              0.8888888888888888,
              "#fdca26"
             ],
             [
              1,
              "#f0f921"
             ]
            ],
            "type": "histogram2d"
           }
          ],
          "histogram2dcontour": [
           {
            "colorbar": {
             "outlinewidth": 0,
             "ticks": ""
            },
            "colorscale": [
             [
              0,
              "#0d0887"
             ],
             [
              0.1111111111111111,
              "#46039f"
             ],
             [
              0.2222222222222222,
              "#7201a8"
             ],
             [
              0.3333333333333333,
              "#9c179e"
             ],
             [
              0.4444444444444444,
              "#bd3786"
             ],
             [
              0.5555555555555556,
              "#d8576b"
             ],
             [
              0.6666666666666666,
              "#ed7953"
             ],
             [
              0.7777777777777778,
              "#fb9f3a"
             ],
             [
              0.8888888888888888,
              "#fdca26"
             ],
             [
              1,
              "#f0f921"
             ]
            ],
            "type": "histogram2dcontour"
           }
          ],
          "mesh3d": [
           {
            "colorbar": {
             "outlinewidth": 0,
             "ticks": ""
            },
            "type": "mesh3d"
           }
          ],
          "parcoords": [
           {
            "line": {
             "colorbar": {
              "outlinewidth": 0,
              "ticks": ""
             }
            },
            "type": "parcoords"
           }
          ],
          "pie": [
           {
            "automargin": true,
            "type": "pie"
           }
          ],
          "scatter": [
           {
            "fillpattern": {
             "fillmode": "overlay",
             "size": 10,
             "solidity": 0.2
            },
            "type": "scatter"
           }
          ],
          "scatter3d": [
           {
            "line": {
             "colorbar": {
              "outlinewidth": 0,
              "ticks": ""
             }
            },
            "marker": {
             "colorbar": {
              "outlinewidth": 0,
              "ticks": ""
             }
            },
            "type": "scatter3d"
           }
          ],
          "scattercarpet": [
           {
            "marker": {
             "colorbar": {
              "outlinewidth": 0,
              "ticks": ""
             }
            },
            "type": "scattercarpet"
           }
          ],
          "scattergeo": [
           {
            "marker": {
             "colorbar": {
              "outlinewidth": 0,
              "ticks": ""
             }
            },
            "type": "scattergeo"
           }
          ],
          "scattergl": [
           {
            "marker": {
             "colorbar": {
              "outlinewidth": 0,
              "ticks": ""
             }
            },
            "type": "scattergl"
           }
          ],
          "scattermap": [
           {
            "marker": {
             "colorbar": {
              "outlinewidth": 0,
              "ticks": ""
             }
            },
            "type": "scattermap"
           }
          ],
          "scattermapbox": [
           {
            "marker": {
             "colorbar": {
              "outlinewidth": 0,
              "ticks": ""
             }
            },
            "type": "scattermapbox"
           }
          ],
          "scatterpolar": [
           {
            "marker": {
             "colorbar": {
              "outlinewidth": 0,
              "ticks": ""
             }
            },
            "type": "scatterpolar"
           }
          ],
          "scatterpolargl": [
           {
            "marker": {
             "colorbar": {
              "outlinewidth": 0,
              "ticks": ""
             }
            },
            "type": "scatterpolargl"
           }
          ],
          "scatterternary": [
           {
            "marker": {
             "colorbar": {
              "outlinewidth": 0,
              "ticks": ""
             }
            },
            "type": "scatterternary"
           }
          ],
          "surface": [
           {
            "colorbar": {
             "outlinewidth": 0,
             "ticks": ""
            },
            "colorscale": [
             [
              0,
              "#0d0887"
             ],
             [
              0.1111111111111111,
              "#46039f"
             ],
             [
              0.2222222222222222,
              "#7201a8"
             ],
             [
              0.3333333333333333,
              "#9c179e"
             ],
             [
              0.4444444444444444,
              "#bd3786"
             ],
             [
              0.5555555555555556,
              "#d8576b"
             ],
             [
              0.6666666666666666,
              "#ed7953"
             ],
             [
              0.7777777777777778,
              "#fb9f3a"
             ],
             [
              0.8888888888888888,
              "#fdca26"
             ],
             [
              1,
              "#f0f921"
             ]
            ],
            "type": "surface"
           }
          ],
          "table": [
           {
            "cells": {
             "fill": {
              "color": "#EBF0F8"
             },
             "line": {
              "color": "white"
             }
            },
            "header": {
             "fill": {
              "color": "#C8D4E3"
             },
             "line": {
              "color": "white"
             }
            },
            "type": "table"
           }
          ]
         },
         "layout": {
          "annotationdefaults": {
           "arrowcolor": "#2a3f5f",
           "arrowhead": 0,
           "arrowwidth": 1
          },
          "autotypenumbers": "strict",
          "coloraxis": {
           "colorbar": {
            "outlinewidth": 0,
            "ticks": ""
           }
          },
          "colorscale": {
           "diverging": [
            [
             0,
             "#8e0152"
            ],
            [
             0.1,
             "#c51b7d"
            ],
            [
             0.2,
             "#de77ae"
            ],
            [
             0.3,
             "#f1b6da"
            ],
            [
             0.4,
             "#fde0ef"
            ],
            [
             0.5,
             "#f7f7f7"
            ],
            [
             0.6,
             "#e6f5d0"
            ],
            [
             0.7,
             "#b8e186"
            ],
            [
             0.8,
             "#7fbc41"
            ],
            [
             0.9,
             "#4d9221"
            ],
            [
             1,
             "#276419"
            ]
           ],
           "sequential": [
            [
             0,
             "#0d0887"
            ],
            [
             0.1111111111111111,
             "#46039f"
            ],
            [
             0.2222222222222222,
             "#7201a8"
            ],
            [
             0.3333333333333333,
             "#9c179e"
            ],
            [
             0.4444444444444444,
             "#bd3786"
            ],
            [
             0.5555555555555556,
             "#d8576b"
            ],
            [
             0.6666666666666666,
             "#ed7953"
            ],
            [
             0.7777777777777778,
             "#fb9f3a"
            ],
            [
             0.8888888888888888,
             "#fdca26"
            ],
            [
             1,
             "#f0f921"
            ]
           ],
           "sequentialminus": [
            [
             0,
             "#0d0887"
            ],
            [
             0.1111111111111111,
             "#46039f"
            ],
            [
             0.2222222222222222,
             "#7201a8"
            ],
            [
             0.3333333333333333,
             "#9c179e"
            ],
            [
             0.4444444444444444,
             "#bd3786"
            ],
            [
             0.5555555555555556,
             "#d8576b"
            ],
            [
             0.6666666666666666,
             "#ed7953"
            ],
            [
             0.7777777777777778,
             "#fb9f3a"
            ],
            [
             0.8888888888888888,
             "#fdca26"
            ],
            [
             1,
             "#f0f921"
            ]
           ]
          },
          "colorway": [
           "#636efa",
           "#EF553B",
           "#00cc96",
           "#ab63fa",
           "#FFA15A",
           "#19d3f3",
           "#FF6692",
           "#B6E880",
           "#FF97FF",
           "#FECB52"
          ],
          "font": {
           "color": "#2a3f5f"
          },
          "geo": {
           "bgcolor": "white",
           "lakecolor": "white",
           "landcolor": "#E5ECF6",
           "showlakes": true,
           "showland": true,
           "subunitcolor": "white"
          },
          "hoverlabel": {
           "align": "left"
          },
          "hovermode": "closest",
          "mapbox": {
           "style": "light"
          },
          "paper_bgcolor": "white",
          "plot_bgcolor": "#E5ECF6",
          "polar": {
           "angularaxis": {
            "gridcolor": "white",
            "linecolor": "white",
            "ticks": ""
           },
           "bgcolor": "#E5ECF6",
           "radialaxis": {
            "gridcolor": "white",
            "linecolor": "white",
            "ticks": ""
           }
          },
          "scene": {
           "xaxis": {
            "backgroundcolor": "#E5ECF6",
            "gridcolor": "white",
            "gridwidth": 2,
            "linecolor": "white",
            "showbackground": true,
            "ticks": "",
            "zerolinecolor": "white"
           },
           "yaxis": {
            "backgroundcolor": "#E5ECF6",
            "gridcolor": "white",
            "gridwidth": 2,
            "linecolor": "white",
            "showbackground": true,
            "ticks": "",
            "zerolinecolor": "white"
           },
           "zaxis": {
            "backgroundcolor": "#E5ECF6",
            "gridcolor": "white",
            "gridwidth": 2,
            "linecolor": "white",
            "showbackground": true,
            "ticks": "",
            "zerolinecolor": "white"
           }
          },
          "shapedefaults": {
           "line": {
            "color": "#2a3f5f"
           }
          },
          "ternary": {
           "aaxis": {
            "gridcolor": "white",
            "linecolor": "white",
            "ticks": ""
           },
           "baxis": {
            "gridcolor": "white",
            "linecolor": "white",
            "ticks": ""
           },
           "bgcolor": "#E5ECF6",
           "caxis": {
            "gridcolor": "white",
            "linecolor": "white",
            "ticks": ""
           }
          },
          "title": {
           "x": 0.05
          },
          "xaxis": {
           "automargin": true,
           "gridcolor": "white",
           "linecolor": "white",
           "ticks": "",
           "title": {
            "standoff": 15
           },
           "zerolinecolor": "white",
           "zerolinewidth": 2
          },
          "yaxis": {
           "automargin": true,
           "gridcolor": "white",
           "linecolor": "white",
           "ticks": "",
           "title": {
            "standoff": 15
           },
           "zerolinecolor": "white",
           "zerolinewidth": 2
          }
         }
        },
        "xaxis": {
         "anchor": "y",
         "domain": [
          0,
          1
         ],
         "title": {
          "text": "band_score"
         }
        },
        "yaxis": {
         "anchor": "x",
         "domain": [
          0,
          1
         ],
         "title": {
          "text": "value"
         }
        }
       }
      }
     },
     "metadata": {},
     "output_type": "display_data"
    }
   ],
   "source": [
    "band_counts.plot(kind=\"bar\")"
   ]
  },
  {
   "cell_type": "markdown",
   "metadata": {},
   "source": [
    "## Lets look at the sub-scoring distribution overall\n",
    "\n",
    "---"
   ]
  },
  {
   "cell_type": "code",
   "execution_count": 6,
   "metadata": {},
   "outputs": [
    {
     "data": {
      "text/html": [
       "<div>\n",
       "<style scoped>\n",
       "    .dataframe tbody tr th:only-of-type {\n",
       "        vertical-align: middle;\n",
       "    }\n",
       "\n",
       "    .dataframe tbody tr th {\n",
       "        vertical-align: top;\n",
       "    }\n",
       "\n",
       "    .dataframe thead th {\n",
       "        text-align: right;\n",
       "    }\n",
       "</style>\n",
       "<table border=\"1\" class=\"dataframe\">\n",
       "  <thead>\n",
       "    <tr style=\"text-align: right;\">\n",
       "      <th></th>\n",
       "      <th>task_achievement_score</th>\n",
       "      <th>coherence_and_cohesion_score</th>\n",
       "      <th>lexical_resource_score</th>\n",
       "      <th>grammatical_range_and_accuracy_score</th>\n",
       "      <th>band_score</th>\n",
       "      <th>cluster</th>\n",
       "    </tr>\n",
       "  </thead>\n",
       "  <tbody>\n",
       "    <tr>\n",
       "      <th>count</th>\n",
       "      <td>9048.000000</td>\n",
       "      <td>9048.000000</td>\n",
       "      <td>9048.000000</td>\n",
       "      <td>9048.000000</td>\n",
       "      <td>9048.000000</td>\n",
       "      <td>9048.000000</td>\n",
       "    </tr>\n",
       "    <tr>\n",
       "      <th>mean</th>\n",
       "      <td>6.122016</td>\n",
       "      <td>5.962588</td>\n",
       "      <td>5.664511</td>\n",
       "      <td>5.580018</td>\n",
       "      <td>6.247955</td>\n",
       "      <td>12.585102</td>\n",
       "    </tr>\n",
       "    <tr>\n",
       "      <th>std</th>\n",
       "      <td>1.387875</td>\n",
       "      <td>1.536109</td>\n",
       "      <td>1.436100</td>\n",
       "      <td>1.498869</td>\n",
       "      <td>1.225668</td>\n",
       "      <td>8.356636</td>\n",
       "    </tr>\n",
       "    <tr>\n",
       "      <th>min</th>\n",
       "      <td>1.000000</td>\n",
       "      <td>1.000000</td>\n",
       "      <td>1.000000</td>\n",
       "      <td>1.000000</td>\n",
       "      <td>4.000000</td>\n",
       "      <td>0.000000</td>\n",
       "    </tr>\n",
       "    <tr>\n",
       "      <th>25%</th>\n",
       "      <td>5.500000</td>\n",
       "      <td>5.000000</td>\n",
       "      <td>5.000000</td>\n",
       "      <td>5.000000</td>\n",
       "      <td>5.500000</td>\n",
       "      <td>5.000000</td>\n",
       "    </tr>\n",
       "    <tr>\n",
       "      <th>50%</th>\n",
       "      <td>6.500000</td>\n",
       "      <td>6.000000</td>\n",
       "      <td>6.000000</td>\n",
       "      <td>6.000000</td>\n",
       "      <td>6.500000</td>\n",
       "      <td>11.000000</td>\n",
       "    </tr>\n",
       "    <tr>\n",
       "      <th>75%</th>\n",
       "      <td>7.000000</td>\n",
       "      <td>7.000000</td>\n",
       "      <td>6.500000</td>\n",
       "      <td>6.500000</td>\n",
       "      <td>7.000000</td>\n",
       "      <td>20.000000</td>\n",
       "    </tr>\n",
       "    <tr>\n",
       "      <th>max</th>\n",
       "      <td>9.000000</td>\n",
       "      <td>9.000000</td>\n",
       "      <td>8.500000</td>\n",
       "      <td>8.500000</td>\n",
       "      <td>8.500000</td>\n",
       "      <td>29.000000</td>\n",
       "    </tr>\n",
       "  </tbody>\n",
       "</table>\n",
       "</div>"
      ],
      "text/plain": [
       "       task_achievement_score  coherence_and_cohesion_score  \\\n",
       "count             9048.000000                   9048.000000   \n",
       "mean                 6.122016                      5.962588   \n",
       "std                  1.387875                      1.536109   \n",
       "min                  1.000000                      1.000000   \n",
       "25%                  5.500000                      5.000000   \n",
       "50%                  6.500000                      6.000000   \n",
       "75%                  7.000000                      7.000000   \n",
       "max                  9.000000                      9.000000   \n",
       "\n",
       "       lexical_resource_score  grammatical_range_and_accuracy_score  \\\n",
       "count             9048.000000                           9048.000000   \n",
       "mean                 5.664511                              5.580018   \n",
       "std                  1.436100                              1.498869   \n",
       "min                  1.000000                              1.000000   \n",
       "25%                  5.000000                              5.000000   \n",
       "50%                  6.000000                              6.000000   \n",
       "75%                  6.500000                              6.500000   \n",
       "max                  8.500000                              8.500000   \n",
       "\n",
       "        band_score      cluster  \n",
       "count  9048.000000  9048.000000  \n",
       "mean      6.247955    12.585102  \n",
       "std       1.225668     8.356636  \n",
       "min       4.000000     0.000000  \n",
       "25%       5.500000     5.000000  \n",
       "50%       6.500000    11.000000  \n",
       "75%       7.000000    20.000000  \n",
       "max       8.500000    29.000000  "
      ]
     },
     "execution_count": 6,
     "metadata": {},
     "output_type": "execute_result"
    }
   ],
   "source": [
    "df.describe()"
   ]
  },
  {
   "cell_type": "code",
   "execution_count": 7,
   "metadata": {},
   "outputs": [
    {
     "name": "stdout",
     "output_type": "stream",
     "text": [
      "<class 'pandas.core.frame.DataFrame'>\n",
      "RangeIndex: 9048 entries, 0 to 9047\n",
      "Data columns (total 15 columns):\n",
      " #   Column                                      Non-Null Count  Dtype  \n",
      "---  ------                                      --------------  -----  \n",
      " 0   prompt                                      9048 non-null   object \n",
      " 1   essay                                       9048 non-null   object \n",
      " 2   evaluation                                  9048 non-null   object \n",
      " 3   band_score_old                              9048 non-null   object \n",
      " 4   task_achievement_description                9048 non-null   object \n",
      " 5   task_achievement_score                      9048 non-null   float64\n",
      " 6   coherence_and_cohesion_description          9048 non-null   object \n",
      " 7   coherence_and_cohesion_score                9048 non-null   float64\n",
      " 8   lexical_resource_description                9048 non-null   object \n",
      " 9   lexical_resource_score                      9048 non-null   float64\n",
      " 10  grammatical_range_and_accuracy_description  9048 non-null   object \n",
      " 11  grammatical_range_and_accuracy_score        9048 non-null   float64\n",
      " 12  overall_band_score_description              9048 non-null   object \n",
      " 13  band_score                                  9048 non-null   float64\n",
      " 14  cluster                                     9048 non-null   int64  \n",
      "dtypes: float64(5), int64(1), object(9)\n",
      "memory usage: 1.0+ MB\n"
     ]
    }
   ],
   "source": [
    "df.info()"
   ]
  },
  {
   "cell_type": "code",
   "execution_count": 8,
   "metadata": {},
   "outputs": [],
   "source": [
    "def plot_subscore_distributions(df, combined=False, figsize=(15, 10)):\n",
    "    \"\"\"\n",
    "    Plot the distributions of the four subscoring components.\n",
    "\n",
    "    Parameters:\n",
    "    -----------\n",
    "    df : pandas DataFrame\n",
    "        DataFrame containing the scoring data\n",
    "    combined : bool, default=False\n",
    "        If True, plot all distributions in a single figure with subplots\n",
    "        If False, return separate plots for each component\n",
    "    figsize : tuple, default=(15, 10)\n",
    "        Figure size when combined=True\n",
    "    \"\"\"\n",
    "    subscore_columns = [\n",
    "        \"task_achievement_score\",\n",
    "        \"coherence_and_cohesion_score\",\n",
    "        \"lexical_resource_score\",\n",
    "        \"grammatical_range_and_accuracy_score\",\n",
    "    ]\n",
    "\n",
    "    pretty_names = {\n",
    "        \"task_achievement_score\": \"Task Achievement\",\n",
    "        \"coherence_and_cohesion_score\": \"Coherence & Cohesion\",\n",
    "        \"lexical_resource_score\": \"Lexical Resource\",\n",
    "        \"grammatical_range_and_accuracy_score\": \"Grammar & Accuracy\",\n",
    "    }\n",
    "\n",
    "    if combined:\n",
    "        # Create a single figure with 4 subplots\n",
    "        fig, axes = plt.subplots(2, 2, figsize=figsize)\n",
    "        axes = axes.flatten()\n",
    "\n",
    "        for i, col in enumerate(subscore_columns):\n",
    "            # Count frequencies\n",
    "            counts = df[col].value_counts().sort_index()\n",
    "\n",
    "            # Create bar plot\n",
    "            axes[i].bar(counts.index, counts.values, color=\"skyblue\")\n",
    "            axes[i].set_title(f\"Distribution of {pretty_names[col]}\")\n",
    "            axes[i].set_xlabel(\"Score\")\n",
    "            axes[i].set_ylabel(\"Frequency\")\n",
    "            axes[i].grid(axis=\"y\", linestyle=\"--\", alpha=0.7)\n",
    "\n",
    "            # Add count labels on top of each bar\n",
    "            for j, v in enumerate(counts.values):\n",
    "                axes[i].text(counts.index[j], v + 20, str(v), ha=\"center\")\n",
    "\n",
    "            # Calculate and display statistics\n",
    "            mean = df[col].mean()\n",
    "            median = df[col].median()\n",
    "            axes[i].axvline(\n",
    "                mean, color=\"red\", linestyle=\"--\", label=f\"Mean: {mean:.2f}\"\n",
    "            )\n",
    "            axes[i].axvline(\n",
    "                median, color=\"green\", linestyle=\"-.\", label=f\"Median: {median:.2f}\"\n",
    "            )\n",
    "            axes[i].legend()\n",
    "\n",
    "        plt.tight_layout()\n",
    "        plt.show()\n",
    "\n",
    "    else:\n",
    "        # Create separate plots for each column\n",
    "        for col in subscore_columns:\n",
    "            plt.figure(figsize=(10, 6))\n",
    "\n",
    "            # Count frequencies\n",
    "            counts = df[col].value_counts().sort_index()\n",
    "\n",
    "            # Create bar plot\n",
    "            plt.bar(counts.index, counts.values, color=\"skyblue\")\n",
    "            plt.title(f\"Distribution of {pretty_names[col]}\")\n",
    "            plt.xlabel(\"Score\")\n",
    "            plt.ylabel(\"Frequency\")\n",
    "            plt.grid(axis=\"y\", linestyle=\"--\", alpha=0.7)\n",
    "\n",
    "            # Add count labels on top of each bar\n",
    "            for i, v in enumerate(counts.values):\n",
    "                plt.text(counts.index[i], v + 20, str(v), ha=\"center\")\n",
    "\n",
    "            # Calculate and display statistics\n",
    "            mean = df[col].mean()\n",
    "            median = df[col].median()\n",
    "            plt.axvline(mean, color=\"red\", linestyle=\"--\", label=f\"Mean: {mean:.2f}\")\n",
    "            plt.axvline(\n",
    "                median, color=\"green\", linestyle=\"-.\", label=f\"Median: {median:.2f}\"\n",
    "            )\n",
    "            plt.legend()\n",
    "\n",
    "            plt.tight_layout()\n",
    "            plt.show()"
   ]
  },
  {
   "cell_type": "code",
   "execution_count": 9,
   "metadata": {},
   "outputs": [
    {
     "data": {
      "image/png": "[encoded data removed]",
      "text/plain": [
       "<Figure size 1500x1000 with 4 Axes>"
      ]
     },
     "metadata": {},
     "output_type": "display_data"
    }
   ],
   "source": [
    "plot_subscore_distributions(df, combined=True)"
   ]
  },
  {
   "cell_type": "markdown",
   "metadata": {},
   "source": [
    "### Lets also look at the std. deviation overall"
   ]
  },
  {
   "cell_type": "code",
   "execution_count": 10,
   "metadata": {},
   "outputs": [
    {
     "name": "stdout",
     "output_type": "stream",
     "text": [
      "Std. Deviations:\n",
      "Task Achievement: 1.3877979057327046\n",
      "Coherence & Cohesion: 1.5360243192957475\n",
      "Lexical Resource: 1.436020396828196\n",
      "Grammar & Accuracy: 1.4987862462302242\n"
     ]
    }
   ],
   "source": [
    "subscore_columns = [\n",
    "    \"task_achievement_score\",\n",
    "    \"coherence_and_cohesion_score\",\n",
    "    \"lexical_resource_score\",\n",
    "    \"grammatical_range_and_accuracy_score\",\n",
    "]\n",
    "\n",
    "pretty_names = {\n",
    "    \"task_achievement_score\": \"Task Achievement\",\n",
    "    \"coherence_and_cohesion_score\": \"Coherence & Cohesion\",\n",
    "    \"lexical_resource_score\": \"Lexical Resource\",\n",
    "    \"grammatical_range_and_accuracy_score\": \"Grammar & Accuracy\",\n",
    "}\n",
    "\n",
    "print(\"Std. Deviations:\")\n",
    "for col in subscore_columns:\n",
    "    print(f\"{pretty_names[col]}: {np.std(df[col])}\")"
   ]
  },
  {
   "cell_type": "markdown",
   "metadata": {},
   "source": [
    "## Now, lets look at the distributions for each overall score seperately\n",
    "\n",
    "---"
   ]
  },
  {
   "cell_type": "code",
   "execution_count": 11,
   "metadata": {},
   "outputs": [],
   "source": [
    "def plot_subscore_comparison_bar(df, figsize=(12, 8)):\n",
    "    \"\"\"\n",
    "    Create a bar plot showing subscores by band level with a summary of the\n",
    "    most challenging components.\n",
    "\n",
    "    Parameters:\n",
    "    -----------\n",
    "    df : pandas DataFrame\n",
    "        DataFrame containing the band scores and subscores\n",
    "    normalized : bool, default=False\n",
    "        If True, show differences between subscores and band score\n",
    "        If False, show raw subscores\n",
    "    figsize : tuple, default=(12, 8)\n",
    "        Figure size\n",
    "    \"\"\"\n",
    "    # Define the subscore columns\n",
    "    subscore_columns = [\n",
    "        \"task_achievement_score\",\n",
    "        \"coherence_and_cohesion_score\",\n",
    "        \"lexical_resource_score\",\n",
    "        \"grammatical_range_and_accuracy_score\",\n",
    "    ]\n",
    "\n",
    "    # Create a shorter, cleaner label for each column\n",
    "    pretty_names = {\n",
    "        \"task_achievement_score\": \"Task Achievement\",\n",
    "        \"coherence_and_cohesion_score\": \"Coherence & Cohesion\",\n",
    "        \"lexical_resource_score\": \"Lexical Resource\",\n",
    "        \"grammatical_range_and_accuracy_score\": \"Grammar & Accuracy\",\n",
    "    }\n",
    "\n",
    "    # Group by band score and calculate the average of each subscore\n",
    "    grouped = df.groupby(\"band_score\")[subscore_columns].mean().reset_index()\n",
    "\n",
    "    # Melt the data for easier plotting\n",
    "    plot_data = pd.melt(\n",
    "        grouped,\n",
    "        id_vars=[\"band_score\"],\n",
    "        value_vars=subscore_columns,\n",
    "        var_name=\"Subscore\",\n",
    "        value_name=\"Score\",\n",
    "    )\n",
    "\n",
    "    # Clean up the subscore names for display\n",
    "    plot_data[\"Subscore\"] = plot_data[\"Subscore\"].apply(lambda x: pretty_names[x])\n",
    "\n",
    "    # Create a grouped bar chart\n",
    "    plt.figure(figsize=figsize)\n",
    "    sns.barplot(x=\"band_score\", y=\"Score\", hue=\"Subscore\", data=plot_data)\n",
    "\n",
    "    # Add a reference line for the band score\n",
    "    for x, band in enumerate(sorted(grouped[\"band_score\"].unique())):\n",
    "        plt.plot([x - 0.4, x + 0.4], [band, band], \"k--\", alpha=0.5)\n",
    "\n",
    "    plt.title(\"Average Subscores by Band Level\")\n",
    "    plt.xlabel(\"Overall Band Score\")\n",
    "    plt.ylabel(\"Average Subscore\")\n",
    "    plt.grid(axis=\"y\", linestyle=\"--\", alpha=0.7)\n",
    "    plt.legend(title=\"Scoring Component\", bbox_to_anchor=(1.05, 1), loc=\"upper left\")\n",
    "    plt.tight_layout()\n",
    "    plt.show()\n",
    "\n",
    "    # Calculate and display the subscore that's most difficult at each band level\n",
    "    diff_data = grouped.copy()\n",
    "    for col in subscore_columns:\n",
    "        diff_data[f\"{col}_diff\"] = diff_data[col] - diff_data[\"band_score\"]\n",
    "\n",
    "    print(\"Most challenging components at each band level:\")\n",
    "    print(\"==============================================\")\n",
    "\n",
    "    for _, row in diff_data.iterrows():\n",
    "        band = row[\"band_score\"]\n",
    "        diff_cols = {col: row[f\"{col}_diff\"] for col in subscore_columns}\n",
    "        hardest = min(diff_cols.items(), key=lambda x: x[1])\n",
    "        easiest = max(diff_cols.items(), key=lambda x: x[1])\n",
    "\n",
    "        print(f\"Band {band}:\")\n",
    "        print(\n",
    "            f\"  Most challenging: {pretty_names[hardest[0]]} ({hardest[1]:.2f} below band)\"\n",
    "        )\n",
    "        print(\n",
    "            f\"  Least challenging: {pretty_names[easiest[0]]} ({easiest[1]:.2f} {'above' if easiest[1] > 0 else 'below'} band)\"\n",
    "        )\n",
    "        print()"
   ]
  },
  {
   "cell_type": "code",
   "execution_count": 12,
   "metadata": {},
   "outputs": [
    {
     "data": {
      "image/png": "[encoded data removed]",
      "text/plain": [
       "<Figure size 1200x800 with 1 Axes>"
      ]
     },
     "metadata": {},
     "output_type": "display_data"
    },
    {
     "name": "stdout",
     "output_type": "stream",
     "text": [
      "Most challenging components at each band level:\n",
      "==============================================\n",
      "Band 4.0:\n",
      "  Most challenging: Grammar & Accuracy (-1.05 below band)\n",
      "  Least challenging: Task Achievement (-0.48 below band)\n",
      "\n",
      "Band 4.5:\n",
      "  Most challenging: Grammar & Accuracy (-0.79 below band)\n",
      "  Least challenging: Task Achievement (-0.29 below band)\n",
      "\n",
      "Band 5.0:\n",
      "  Most challenging: Grammar & Accuracy (-0.86 below band)\n",
      "  Least challenging: Task Achievement (-0.12 below band)\n",
      "\n",
      "Band 5.5:\n",
      "  Most challenging: Grammar & Accuracy (-0.38 below band)\n",
      "  Least challenging: Task Achievement (0.21 above band)\n",
      "\n",
      "Band 6.0:\n",
      "  Most challenging: Grammar & Accuracy (-0.45 below band)\n",
      "  Least challenging: Task Achievement (0.01 above band)\n",
      "\n",
      "Band 6.5:\n",
      "  Most challenging: Grammar & Accuracy (-0.47 below band)\n",
      "  Least challenging: Task Achievement (0.01 above band)\n",
      "\n",
      "Band 7.0:\n",
      "  Most challenging: Grammar & Accuracy (-0.68 below band)\n",
      "  Least challenging: Task Achievement (-0.21 below band)\n",
      "\n",
      "Band 7.5:\n",
      "  Most challenging: Grammar & Accuracy (-0.71 below band)\n",
      "  Least challenging: Task Achievement (-0.10 below band)\n",
      "\n",
      "Band 8.0:\n",
      "  Most challenging: Grammar & Accuracy (-1.08 below band)\n",
      "  Least challenging: Task Achievement (-0.47 below band)\n",
      "\n",
      "Band 8.5:\n",
      "  Most challenging: Lexical Resource (-0.92 below band)\n",
      "  Least challenging: Task Achievement (-0.24 below band)\n",
      "\n"
     ]
    }
   ],
   "source": [
    "plot_subscore_comparison_bar(df)"
   ]
  },
  {
   "cell_type": "markdown",
   "metadata": {},
   "source": [
    "### [`Click here to go back to the Homepage`](../Homepage.md)"
   ]
  }
 ],
 "metadata": {
  "kernelspec": {
   "display_name": ".env",
   "language": "python",
   "name": "python3"
  },
  "language_info": {
   "codemirror_mode": {
    "name": "ipython",
    "version": 3
   },
   "file_extension": ".py",
   "mimetype": "text/x-python",
   "name": "python",
   "nbconvert_exporter": "python",
   "pygments_lexer": "ipython3",
   "version": "3.12.2"
  }
 },
 "nbformat": 4,
 "nbformat_minor": 2
}
