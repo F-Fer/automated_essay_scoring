{
 "cells": [
  {
   "cell_type": "markdown",
   "id": "d8b1aa99",
   "metadata": {},
   "source": [
    "# EuroBERT Regression\n",
    "\n",
    "This notebook implements a EuroBERT-based regression model for automated essay scoring by combining prompts and essays into a unified text input."
   ]
  },
  {
   "cell_type": "markdown",
   "id": "c676b2b2",
   "metadata": {},
   "source": [
    "## Key Findings\n",
    "\n",
    "While EuroBERT achieved a classification-style accuracy of 46.26% by rounding its continuous predictions, it was not the main focus of our work, as we had already trained a BERT model with cross-attention mechanisms tailored to this task. The evaluation shows that EuroBERT performs significantly better than traditional models, particularly in handling class imbalances and capturing semantic nuances."
   ]
  },
  {
   "cell_type": "markdown",
   "id": "b09b0bf2",
   "metadata": {},
   "source": [
    "## Import and Setup\n",
    "\n",
    "---"
   ]
  },
  {
   "cell_type": "code",
   "execution_count": 1,
   "id": "862e7aea",
   "metadata": {},
   "outputs": [
    {
     "name": "stderr",
     "output_type": "stream",
     "text": [
      "2025-06-18 09:14:56.077801: I tensorflow/core/util/port.cc:153] oneDNN custom operations are on. You may see slightly different numerical results due to floating-point round-off errors from different computation orders. To turn them off, set the environment variable `TF_ENABLE_ONEDNN_OPTS=0`.\n",
      "2025-06-18 09:14:56.085762: E external/local_xla/xla/stream_executor/cuda/cuda_fft.cc:467] Unable to register cuFFT factory: Attempting to register factory for plugin cuFFT when one has already been registered\n",
      "WARNING: All log messages before absl::InitializeLog() is called are written to STDERR\n",
      "E0000 00:00:1750230896.095868   10487 cuda_dnn.cc:8579] Unable to register cuDNN factory: Attempting to register factory for plugin cuDNN when one has already been registered\n",
      "E0000 00:00:1750230896.099033   10487 cuda_blas.cc:1407] Unable to register cuBLAS factory: Attempting to register factory for plugin cuBLAS when one has already been registered\n",
      "W0000 00:00:1750230896.107291   10487 computation_placer.cc:177] computation placer already registered. Please check linkage and avoid linking the same target more than once.\n",
      "W0000 00:00:1750230896.107304   10487 computation_placer.cc:177] computation placer already registered. Please check linkage and avoid linking the same target more than once.\n",
      "W0000 00:00:1750230896.107305   10487 computation_placer.cc:177] computation placer already registered. Please check linkage and avoid linking the same target more than once.\n",
      "W0000 00:00:1750230896.107306   10487 computation_placer.cc:177] computation placer already registered. Please check linkage and avoid linking the same target more than once.\n",
      "2025-06-18 09:14:56.110573: I tensorflow/core/platform/cpu_feature_guard.cc:210] This TensorFlow binary is optimized to use available CPU instructions in performance-critical operations.\n",
      "To enable the following instructions: AVX2 AVX_VNNI FMA, in other operations, rebuild TensorFlow with the appropriate compiler flags.\n"
     ]
    },
    {
     "name": "stdout",
     "output_type": "stream",
     "text": [
      "Using device: cuda\n"
     ]
    }
   ],
   "source": [
    "import numpy as np\n",
    "import pandas as pd\n",
    "import torch\n",
    "from transformers import AutoTokenizer, AutoModelForSequenceClassification\n",
    "from transformers import Trainer, TrainingArguments\n",
    "from sklearn.model_selection import train_test_split\n",
    "from sklearn.metrics import (\n",
    "    mean_squared_error,\n",
    "    mean_absolute_error,\n",
    ")\n",
    "device = torch.device(\n",
    "    \"mps\"\n",
    "    if torch.mps.is_available()\n",
    "    else \"cuda\"\n",
    "    if torch.cuda.is_available()\n",
    "    else \"cpu\"\n",
    ")\n",
    "print(f\"Using device: {device}\")"
   ]
  },
  {
   "cell_type": "markdown",
   "id": "b4f565ba",
   "metadata": {},
   "source": [
    "# Data Import\n",
    "\n",
    "---"
   ]
  },
  {
   "cell_type": "code",
   "execution_count": 2,
   "id": "48b4c129",
   "metadata": {},
   "outputs": [],
   "source": [
    "train_df = pd.read_csv(\"../data/clean_train.csv\")\n",
    "test_df = pd.read_csv(\"../data/clean_test.csv\")"
   ]
  },
  {
   "cell_type": "code",
   "execution_count": 3,
   "id": "6dcd4000",
   "metadata": {},
   "outputs": [
    {
     "data": {
      "text/plain": [
       "(9048, 14)"
      ]
     },
     "execution_count": 3,
     "metadata": {},
     "output_type": "execute_result"
    }
   ],
   "source": [
    "train_df.shape"
   ]
  },
  {
   "cell_type": "markdown",
   "id": "af2b4705",
   "metadata": {},
   "source": [
    "## Extracting the necessary features\n",
    "\n",
    "---"
   ]
  },
  {
   "cell_type": "code",
   "execution_count": 4,
   "id": "d0372c41",
   "metadata": {},
   "outputs": [],
   "source": [
    "train_df[\"band_score\"] = train_df[\"band_score\"] * 2\n",
    "test_df[\"band_score\"] = test_df[\"band_score\"] * 2\n",
    "train_df[\"band_score\"] = train_df[\"band_score\"].astype(int)\n",
    "test_df[\"band_score\"] = test_df[\"band_score\"].astype(int)\n",
    "\n",
    "# Subtract 8 from band_score to get the range 0-10 (this is needed for cuda)\n",
    "train_df[\"band_score\"] = train_df[\"band_score\"] - 8\n",
    "test_df[\"band_score\"] = test_df[\"band_score\"] - 8"
   ]
  },
  {
   "cell_type": "code",
   "execution_count": 5,
   "id": "f5b52762",
   "metadata": {},
   "outputs": [
    {
     "name": "stdout",
     "output_type": "stream",
     "text": [
      "Train shape: (7238, 14)\n",
      "Val shape: (1810, 14)\n"
     ]
    }
   ],
   "source": [
    "# Splitting train into train and validation\n",
    "train_df, val_df = train_test_split(train_df, test_size=0.2, random_state=42)\n",
    "\n",
    "print(f\"Train shape: {train_df.shape}\")\n",
    "print(f\"Val shape: {val_df.shape}\")"
   ]
  },
  {
   "cell_type": "markdown",
   "id": "7f150e8f",
   "metadata": {},
   "source": [
    "## Oversampling\n",
    "\n",
    "---"
   ]
  },
  {
   "cell_type": "code",
   "execution_count": 6,
   "id": "1411de29",
   "metadata": {},
   "outputs": [
    {
     "data": {
      "text/plain": [
       "<Axes: xlabel='band_score'>"
      ]
     },
     "execution_count": 6,
     "metadata": {},
     "output_type": "execute_result"
    },
    {
     "data": {
      "image/png": "[encoded data removed]",
      "text/plain": [
       "<Figure size 640x480 with 1 Axes>"
      ]
     },
     "metadata": {},
     "output_type": "display_data"
    }
   ],
   "source": [
    "band_counts = train_df[\"band_score\"].value_counts().sort_index()\n",
    "band_counts.plot(kind=\"bar\")"
   ]
  },
  {
   "cell_type": "code",
   "execution_count": 7,
   "id": "a0754960",
   "metadata": {},
   "outputs": [
    {
     "name": "stdout",
     "output_type": "stream",
     "text": [
      "Before oversampling:\n",
      "Train shape: (7238, 14)\n",
      "Train class distribution:\n",
      "band_score\n",
      "0     689\n",
      "1     438\n",
      "2     437\n",
      "3     741\n",
      "4    1093\n",
      "5    1189\n",
      "6    1046\n",
      "7     896\n",
      "8     384\n",
      "9     325\n",
      "Name: count, dtype: int64\n",
      "\n",
      "After oversampling:\n",
      "Train shape: (11890, 14)\n",
      "Train class distribution:\n",
      "band_score\n",
      "0    1189\n",
      "1    1189\n",
      "2    1189\n",
      "3    1189\n",
      "4    1189\n",
      "5    1189\n",
      "6    1189\n",
      "7    1189\n",
      "8    1189\n",
      "9    1189\n",
      "Name: count, dtype: int64\n",
      "Val shape: (1810, 14)\n"
     ]
    }
   ],
   "source": [
    "print(\"Before oversampling:\")\n",
    "print(f\"Train shape: {train_df.shape}\")\n",
    "print(\n",
    "    f\"Train class distribution:\\n{train_df['band_score'].value_counts().sort_index()}\"\n",
    ")\n",
    "\n",
    "\n",
    "def random_oversample(df, target_column, random_state=42):\n",
    "    \"\"\"\n",
    "    Randomly oversample minority classes to match the majority class\n",
    "    \"\"\"\n",
    "    np.random.seed(random_state)\n",
    "\n",
    "    # Get class counts\n",
    "    class_counts = df[\"band_score\"].value_counts()\n",
    "    max_count = class_counts.max()\n",
    "\n",
    "    oversampled_dfs = []\n",
    "\n",
    "    for class_value in class_counts.index:\n",
    "        class_df = df[df[\"band_score\"] == class_value]\n",
    "        current_count = len(class_df)\n",
    "\n",
    "        if current_count < max_count:\n",
    "            # Calculate how many more samples we need\n",
    "            needed_samples = max_count - current_count\n",
    "\n",
    "            # Randomly sample with replacement\n",
    "            additional_samples = class_df.sample(\n",
    "                n=needed_samples, replace=True, random_state=random_state\n",
    "            )\n",
    "\n",
    "            # Combine original and additional samples\n",
    "            class_df_oversampled = pd.concat(\n",
    "                [class_df, additional_samples], ignore_index=True\n",
    "            )\n",
    "        else:\n",
    "            class_df_oversampled = class_df\n",
    "\n",
    "        oversampled_dfs.append(class_df_oversampled)\n",
    "\n",
    "    # Combine all classes\n",
    "    result_df = pd.concat(oversampled_dfs, ignore_index=True)\n",
    "\n",
    "    # Shuffle the dataset\n",
    "    result_df = result_df.sample(frac=1, random_state=random_state).reset_index(\n",
    "        drop=True\n",
    "    )\n",
    "\n",
    "    return result_df\n",
    "\n",
    "\n",
    "# Apply oversampling to training data only\n",
    "train_df = random_oversample(train_df, \"band_score\", random_state=42)\n",
    "\n",
    "print(\"\\nAfter oversampling:\")\n",
    "print(f\"Train shape: {train_df.shape}\")\n",
    "print(\n",
    "    f\"Train class distribution:\\n{train_df['band_score'].value_counts().sort_index()}\"\n",
    ")\n",
    "print(f\"Val shape: {val_df.shape}\")"
   ]
  },
  {
   "cell_type": "code",
   "execution_count": 8,
   "id": "9360924d",
   "metadata": {},
   "outputs": [
    {
     "data": {
      "text/plain": [
       "<Axes: xlabel='band_score'>"
      ]
     },
     "execution_count": 8,
     "metadata": {},
     "output_type": "execute_result"
    },
    {
     "data": {
      "image/png": "[encoded data removed]",
      "text/plain": [
       "<Figure size 640x480 with 1 Axes>"
      ]
     },
     "metadata": {},
     "output_type": "display_data"
    }
   ],
   "source": [
    "band_counts = train_df[\"band_score\"].value_counts().sort_index()\n",
    "band_counts.plot(kind=\"bar\")"
   ]
  },
  {
   "cell_type": "code",
   "execution_count": 9,
   "id": "e18cc5d1",
   "metadata": {},
   "outputs": [],
   "source": [
    "train_df[\"text\"] = train_df[\"prompt\"] + \" [SEP] \" + train_df[\"essay\"]\n",
    "test_df[\"text\"] = test_df[\"prompt\"] + \" [SEP] \" + test_df[\"essay\"]\n",
    "val_df[\"text\"] = val_df[\"prompt\"] + \" [SEP] \" + val_df[\"essay\"]"
   ]
  },
  {
   "cell_type": "markdown",
   "id": "0478bbdb",
   "metadata": {},
   "source": [
    "## Model and Training\n",
    "\n",
    "---"
   ]
  },
  {
   "cell_type": "code",
   "execution_count": 10,
   "id": "d1fa369f",
   "metadata": {},
   "outputs": [
    {
     "name": "stderr",
     "output_type": "stream",
     "text": [
      "Some weights of EuroBertForSequenceClassification were not initialized from the model checkpoint at EuroBERT/EuroBERT-210m and are newly initialized: ['classifier.bias', 'classifier.weight', 'dense.bias', 'dense.weight']\n",
      "You should probably TRAIN this model on a down-stream task to be able to use it for predictions and inference.\n"
     ]
    }
   ],
   "source": [
    "model_name = \"EuroBERT/EuroBERT-210m\"\n",
    "tokenizer = AutoTokenizer.from_pretrained(model_name)\n",
    "\n",
    "# num_labels=1 because of regression\n",
    "model = AutoModelForSequenceClassification.from_pretrained(\n",
    "    model_name, num_labels=1, problem_type=\"regression\", trust_remote_code=True\n",
    ")"
   ]
  },
  {
   "cell_type": "code",
   "execution_count": 11,
   "id": "f218a357",
   "metadata": {},
   "outputs": [],
   "source": [
    "import torch\n",
    "\n",
    "\n",
    "class EssayDataset(torch.utils.data.Dataset):\n",
    "    def __init__(self, df, tokenizer):\n",
    "        self.texts = df[\"text\"].tolist()\n",
    "        # Wichtig: Die Scores müssen numerisch sein\n",
    "        self.labels = df[\"band_score\"].astype(float).tolist()\n",
    "        self.tokenizer = tokenizer\n",
    "        self.max_len = 512  # Maximale Länge für RoBERTa\n",
    "\n",
    "    def __len__(self):\n",
    "        return len(self.texts)\n",
    "\n",
    "    def __getitem__(self, idx):\n",
    "        text = self.texts[idx]\n",
    "        label = self.labels[idx]\n",
    "\n",
    "        # Tokeniziere den Text\n",
    "        encoding = self.tokenizer(\n",
    "            text,\n",
    "            add_special_tokens=True,\n",
    "            max_length=self.max_len,\n",
    "            padding=\"max_length\",\n",
    "            truncation=True,\n",
    "            return_attention_mask=True,\n",
    "            return_tensors=\"pt\",\n",
    "        )\n",
    "\n",
    "        return {\n",
    "            \"input_ids\": encoding[\"input_ids\"].flatten(),\n",
    "            \"attention_mask\": encoding[\"attention_mask\"].flatten(),\n",
    "            # Die Labels müssen als Float-Tensor übergeben werden\n",
    "            \"labels\": torch.tensor(label, dtype=torch.float),\n",
    "        }\n",
    "\n",
    "\n",
    "train_dataset = EssayDataset(train_df, tokenizer)\n",
    "test_dataset = EssayDataset(test_df, tokenizer)"
   ]
  },
  {
   "cell_type": "markdown",
   "id": "e53f4633",
   "metadata": {},
   "source": [
    "## Metrics\n",
    "\n",
    "---"
   ]
  },
  {
   "cell_type": "code",
   "execution_count": 12,
   "id": "5ab859c8",
   "metadata": {},
   "outputs": [
    {
     "data": {
      "text/html": [
       "\n",
       "    <div>\n",
       "      \n",
       "      <progress value='4461' max='4461' style='width:300px; height:20px; vertical-align: middle;'></progress>\n",
       "      [4461/4461 44:30, Epoch 3/3]\n",
       "    </div>\n",
       "    <table border=\"1\" class=\"dataframe\">\n",
       "  <thead>\n",
       " <tr style=\"text-align: left;\">\n",
       "      <th>Epoch</th>\n",
       "      <th>Training Loss</th>\n",
       "      <th>Validation Loss</th>\n",
       "      <th>Mean Squared Error</th>\n",
       "      <th>Mean Absolute Error</th>\n",
       "    </tr>\n",
       "  </thead>\n",
       "  <tbody>\n",
       "    <tr>\n",
       "      <td>1</td>\n",
       "      <td>2.962500</td>\n",
       "      <td>2.669069</td>\n",
       "      <td>2.669069</td>\n",
       "      <td>1.301041</td>\n",
       "    </tr>\n",
       "    <tr>\n",
       "      <td>2</td>\n",
       "      <td>0.918600</td>\n",
       "      <td>1.817126</td>\n",
       "      <td>1.817126</td>\n",
       "      <td>0.979285</td>\n",
       "    </tr>\n",
       "    <tr>\n",
       "      <td>3</td>\n",
       "      <td>0.564700</td>\n",
       "      <td>1.624493</td>\n",
       "      <td>1.624493</td>\n",
       "      <td>0.865985</td>\n",
       "    </tr>\n",
       "  </tbody>\n",
       "</table><p>"
      ],
      "text/plain": [
       "<IPython.core.display.HTML object>"
      ]
     },
     "metadata": {},
     "output_type": "display_data"
    },
    {
     "data": {
      "text/plain": [
       "('../tokenizer/eurotoke_v1/tokenizer_config.json',\n",
       " '../tokenizer/eurotoke_v1/special_tokens_map.json',\n",
       " '../tokenizer/eurotoke_v1/tokenizer.json')"
      ]
     },
     "execution_count": 12,
     "metadata": {},
     "output_type": "execute_result"
    }
   ],
   "source": [
    "def compute_metrics(p):\n",
    "    preds = p.predictions.flatten()\n",
    "    labels = p.label_ids.flatten()\n",
    "    mse = mean_squared_error(labels, preds)\n",
    "    mae = mean_absolute_error(labels, preds)\n",
    "    return {\n",
    "        \"mean_squared_error\": mse,\n",
    "        \"mean_absolute_error\": mae,\n",
    "    }\n",
    "\n",
    "\n",
    "# Definiere die Argumente für das Training\n",
    "training_args = TrainingArguments(\n",
    "    output_dir=\"./results\",\n",
    "    num_train_epochs=3,\n",
    "    per_device_train_batch_size=8,\n",
    "    per_device_eval_batch_size=8,\n",
    "    learning_rate=2e-5,\n",
    "    weight_decay=0.01,\n",
    "    logging_steps=10,\n",
    "    eval_strategy=\"epoch\",\n",
    "    save_strategy=\"epoch\",\n",
    "    load_best_model_at_end=True,\n",
    "    metric_for_best_model=\"mean_absolute_error\",\n",
    "    greater_is_better=False,\n",
    ")\n",
    "\n",
    "# Erstelle den Trainer\n",
    "trainer = Trainer(\n",
    "    model=model,\n",
    "    args=training_args,\n",
    "    train_dataset=train_dataset,\n",
    "    eval_dataset=test_dataset,\n",
    "    compute_metrics=compute_metrics,\n",
    ")\n",
    "\n",
    "# Starte das Training! 🚀\n",
    "trainer.train()\n",
    "\n",
    "# Speichere das finale, fein-trainierte Modell und den Tokenizer\n",
    "trainer.save_model(\"../models/eurobert_v1\")\n",
    "tokenizer.save_pretrained(\"../tokenizer/eurotoke_v1\")"
   ]
  },
  {
   "cell_type": "code",
   "execution_count": 13,
   "id": "612cdae8",
   "metadata": {},
   "outputs": [],
   "source": [
    "import matplotlib.pyplot as plt\n",
    "import seaborn as sns\n",
    "\n",
    "def confusion_matrix_plot(cm, num_classes):\n",
    "    \"\"\"\n",
    "    Plot a confusion matrix.\n",
    "\n",
    "    Args:\n",
    "        cm (np.ndarray): The confusion matrix.\n",
    "        num_classes (int): The number of classes.\n",
    "    \"\"\"\n",
    "    plt.figure(figsize=(10, 8))\n",
    "    sns.heatmap(\n",
    "        cm,\n",
    "        annot=True,\n",
    "        fmt=\"d\",\n",
    "        cmap=\"Blues\",\n",
    "        xticklabels=[str(i) for i in range(num_classes)],\n",
    "        yticklabels=[str(i) for i in range(num_classes)],\n",
    "    )\n",
    "    plt.xlabel(\"Predicted Labels\")\n",
    "    plt.ylabel(\"True Labels\")\n",
    "    plt.title(\"Confusion Matrix\")\n",
    "    plt.show()\n",
    "\n",
    "def evaluate_regression_as_classification(model, data_loader, device, max_length=512):\n",
    "    \"\"\"\n",
    "    Evaluate a regression model by converting predictions to integers\n",
    "    and treating them as classification labels.\n",
    "\n",
    "    Args:\n",
    "        model: The model to evaluate.\n",
    "        data_loader: The data loader to use for evaluation.\n",
    "        device: The device to run the model on.\n",
    "        max_length: The maximum length of the input sequence.\n",
    "\n",
    "    Returns:\n",
    "        tuple: (accuracy, classification_report, confusion_matrix)\n",
    "    \"\"\"\n",
    "    from sklearn.metrics import accuracy_score, classification_report, confusion_matrix\n",
    "\n",
    "    model.eval()\n",
    "    predictions = []\n",
    "    actual_labels = []\n",
    "\n",
    "    with torch.no_grad():\n",
    "        for batch in data_loader:\n",
    "            input_ids = batch[\"input_ids\"].to(device)\n",
    "            attention_mask = batch[\"attention_mask\"].to(device)\n",
    "            labels = batch[\"labels\"].to(device)\n",
    "\n",
    "            # Get regression predictions (continuous values)\n",
    "            outputs = model(input_ids=input_ids, attention_mask=attention_mask)\n",
    "            preds = outputs.logits.squeeze()  # Extract logits and remove extra dimensions\n",
    "\n",
    "            # Convert continuous predictions to integers (round to nearest integer)\n",
    "            preds_int = torch.round(preds).int()\n",
    "\n",
    "            # Convert actual scores to integers as well\n",
    "            labels_int = torch.round(labels).int()\n",
    "\n",
    "            # Convert to CPU and extend lists\n",
    "            predictions.extend(preds_int.cpu().tolist())\n",
    "            actual_labels.extend(labels_int.cpu().tolist())\n",
    "\n",
    "    # Calculate classification metrics\n",
    "    accuracy = accuracy_score(actual_labels, predictions)\n",
    "    class_report = classification_report(actual_labels, predictions)\n",
    "    conf_matrix = confusion_matrix(actual_labels, predictions)\n",
    "\n",
    "    return accuracy, class_report, conf_matrix"
   ]
  },
  {
   "cell_type": "code",
   "execution_count": 14,
   "id": "176bf22a",
   "metadata": {},
   "outputs": [
    {
     "name": "stdout",
     "output_type": "stream",
     "text": [
      "Accuracy: 0.46255506607929514\n",
      "\n",
      " Report:\n",
      "              precision    recall  f1-score   support\n",
      "\n",
      "           0       0.74      0.43      0.55        46\n",
      "           1       0.42      0.61      0.50        31\n",
      "           2       0.36      0.60      0.45        20\n",
      "           3       0.63      0.48      0.54        61\n",
      "           4       0.45      0.45      0.45        67\n",
      "           5       0.40      0.43      0.41        81\n",
      "           6       0.38      0.45      0.41        65\n",
      "           7       0.43      0.39      0.41        46\n",
      "           8       0.48      0.52      0.50        21\n",
      "           9       0.88      0.44      0.58        16\n",
      "\n",
      "    accuracy                           0.46       454\n",
      "   macro avg       0.52      0.48      0.48       454\n",
      "weighted avg       0.49      0.46      0.47       454\n",
      "\n"
     ]
    },
    {
     "data": {
      "image/png": "[encoded data removed]",
      "text/plain": [
       "<Figure size 1000x800 with 2 Axes>"
      ]
     },
     "metadata": {},
     "output_type": "display_data"
    }
   ],
   "source": [
    "from torch.utils.data import DataLoader\n",
    "\n",
    "test_dataset = EssayDataset(test_df, tokenizer)\n",
    "test_dataloader = DataLoader(test_dataset, batch_size=8, shuffle=False)\n",
    "accuracy, report, cm = evaluate_regression_as_classification(\n",
    "    model, test_dataloader, device\n",
    ")\n",
    "\n",
    "print(f\"Accuracy: {accuracy}\")\n",
    "print(\"\\n Report:\")\n",
    "print(report)\n",
    "\n",
    "confusion_matrix_plot(cm, 10)"
   ]
  },
  {
   "cell_type": "markdown",
   "id": "df0664bc",
   "metadata": {},
   "source": [
    "### [`Click here to go back to the Homepage`](../Homepage.md)"
   ]
  }
 ],
 "metadata": {
  "kernelspec": {
   "display_name": "nlp-venv",
   "language": "python",
   "name": "python3"
  },
  "language_info": {
   "codemirror_mode": {
    "name": "ipython",
    "version": 3
   },
   "file_extension": ".py",
   "mimetype": "text/x-python",
   "name": "python",
   "nbconvert_exporter": "python",
   "pygments_lexer": "ipython3",
   "version": "3.12.9"
  }
 },
 "nbformat": 4,
 "nbformat_minor": 5
}
