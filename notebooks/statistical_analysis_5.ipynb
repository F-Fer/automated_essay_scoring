{
 "cells": [
  {
   "cell_type": "markdown",
   "metadata": {},
   "source": [
    "# Statistical Analysis 5: Question Type Difficulty and Average Grades\n",
    "\n",
    "This notebook investigates whether some question types are easier to answer than others by analyzing the average band scores across different prompt clusters."
   ]
  },
  {
   "cell_type": "markdown",
   "metadata": {},
   "source": [
    "## Key Findings\n",
    "\n",
    "The analysis reveals **significant variation in difficulty across question types**, with average band scores ranging from approximately 6.04 to 6.46. While this may seem like a small range, it represents meaningful differences in essay quality and student performance across different prompt themes.\n",
    "\n",
    "**Easier topics** tend to involve familiar subjects like government spending priorities, while **more challenging topics** often require nuanced discussion of abstract concepts like the dual purposes of cultural institutions."
   ]
  },
  {
   "cell_type": "markdown",
   "metadata": {},
   "source": [
    "## Imports and Setup\n",
    "\n",
    "---"
   ]
  },
  {
   "cell_type": "code",
   "execution_count": 2,
   "metadata": {},
   "outputs": [
    {
     "name": "stdout",
     "output_type": "stream",
     "text": [
      "/Users/finnferchau/dev/team-10\n"
     ]
    }
   ],
   "source": [
    "import pandas as pd\n",
    "from os import path\n",
    "import sys\n",
    "\n",
    "sys.path.append(path.dirname(path.abspath(\"\")))\n",
    "project_root = path.dirname(path.abspath(\"\"))\n",
    "print(project_root)"
   ]
  },
  {
   "cell_type": "code",
   "execution_count": 3,
   "metadata": {},
   "outputs": [],
   "source": [
    "pd.options.plotting.backend = \"plotly\""
   ]
  },
  {
   "cell_type": "markdown",
   "metadata": {},
   "source": [
    "## Data Import\n",
    "\n",
    "---\n",
    "\n",
    "Load the clustered essays dataset containing essays, prompts, evaluations, band scores, and cluster assignments."
   ]
  },
  {
   "cell_type": "code",
   "execution_count": 4,
   "metadata": {},
   "outputs": [
    {
     "name": "stdout",
     "output_type": "stream",
     "text": [
      "/Users/finnferchau/dev/team-10/data/clean_clustered_train.csv\n"
     ]
    },
    {
     "data": {
      "text/html": [
       "<div>\n",
       "<style scoped>\n",
       "    .dataframe tbody tr th:only-of-type {\n",
       "        vertical-align: middle;\n",
       "    }\n",
       "\n",
       "    .dataframe tbody tr th {\n",
       "        vertical-align: top;\n",
       "    }\n",
       "\n",
       "    .dataframe thead th {\n",
       "        text-align: right;\n",
       "    }\n",
       "</style>\n",
       "<table border=\"1\" class=\"dataframe\">\n",
       "  <thead>\n",
       "    <tr style=\"text-align: right;\">\n",
       "      <th></th>\n",
       "      <th>prompt</th>\n",
       "      <th>essay</th>\n",
       "      <th>evaluation</th>\n",
       "      <th>band_score_old</th>\n",
       "      <th>task_achievement_description</th>\n",
       "      <th>task_achievement_score</th>\n",
       "      <th>coherence_and_cohesion_description</th>\n",
       "      <th>coherence_and_cohesion_score</th>\n",
       "      <th>lexical_resource_description</th>\n",
       "      <th>lexical_resource_score</th>\n",
       "      <th>grammatical_range_and_accuracy_description</th>\n",
       "      <th>grammatical_range_and_accuracy_score</th>\n",
       "      <th>overall_band_score_description</th>\n",
       "      <th>band_score</th>\n",
       "      <th>cluster</th>\n",
       "    </tr>\n",
       "  </thead>\n",
       "  <tbody>\n",
       "    <tr>\n",
       "      <th>2646</th>\n",
       "      <td>Some people think that the government should e...</td>\n",
       "      <td>In the modern world, there are opinions that t...</td>\n",
       "      <td>## Task Achievement:\\nThe candidate has effect...</td>\n",
       "      <td>6.5\\r\\r\\r\\r\\r</td>\n",
       "      <td>Task Achievement: The candidate has effectivel...</td>\n",
       "      <td>7.0</td>\n",
       "      <td>Coherence and Cohesion: The essay demonstrates...</td>\n",
       "      <td>7.0</td>\n",
       "      <td>Lexical Resource (Vocabulary): The essay exhib...</td>\n",
       "      <td>6.5</td>\n",
       "      <td>Grammatical Range and Accuracy: The essay disp...</td>\n",
       "      <td>6.0</td>\n",
       "      <td>Overall Band Score: **6.5** The essay demonstr...</td>\n",
       "      <td>6.5</td>\n",
       "      <td>3</td>\n",
       "    </tr>\n",
       "    <tr>\n",
       "      <th>6034</th>\n",
       "      <td>Some people believe that eventually all jobs w...</td>\n",
       "      <td>These days, artificially intelligent robots ar...</td>\n",
       "      <td>**Task Achievement:**\\n\\n- The essay adequatel...</td>\n",
       "      <td>&lt;4\\r\\r\\r</td>\n",
       "      <td>Task Achievement:** - The essay adequately add...</td>\n",
       "      <td>4.0</td>\n",
       "      <td>Coherence and Cohesion:** - The essay is gener...</td>\n",
       "      <td>4.0</td>\n",
       "      <td>Lexical Resource (Vocabulary):** - The essay d...</td>\n",
       "      <td>3.5</td>\n",
       "      <td>Grammatical Range and Accuracy:** - The essay ...</td>\n",
       "      <td>3.5</td>\n",
       "      <td>Overall Band Score:** Considering the holistic...</td>\n",
       "      <td>4.0</td>\n",
       "      <td>0</td>\n",
       "    </tr>\n",
       "    <tr>\n",
       "      <th>3605</th>\n",
       "      <td>People nowadays tend to have children at older...</td>\n",
       "      <td>In the present world, many couples prefer to g...</td>\n",
       "      <td>**Task Achievement: 4.5**\\n\\nThe essay address...</td>\n",
       "      <td>4.5\\r\\r</td>\n",
       "      <td>Task Achievement: 4.5** The essay addresses th...</td>\n",
       "      <td>4.5</td>\n",
       "      <td>Coherence and Cohesion: 4.0** The essay is wel...</td>\n",
       "      <td>4.0</td>\n",
       "      <td>Lexical Resource (Vocabulary): 4.0** The write...</td>\n",
       "      <td>4.0</td>\n",
       "      <td>Grammatical Range and Accuracy: 4.0** The essa...</td>\n",
       "      <td>4.0</td>\n",
       "      <td>Overall Band Score: 4.5** Overall, the essay i...</td>\n",
       "      <td>4.5</td>\n",
       "      <td>4</td>\n",
       "    </tr>\n",
       "    <tr>\n",
       "      <th>8527</th>\n",
       "      <td>Some people think that museums should be enjoy...</td>\n",
       "      <td>There has been much discussion revolving aroun...</td>\n",
       "      <td>## Task Achievement:\\n- The candidate has adeq...</td>\n",
       "      <td>4\\r</td>\n",
       "      <td>Task Achievement: - The candidate has adequate...</td>\n",
       "      <td>4.0</td>\n",
       "      <td>Coherence and Cohesion: - Transitions between ...</td>\n",
       "      <td>4.0</td>\n",
       "      <td>Lexical Resource (Vocabulary): - The vocabular...</td>\n",
       "      <td>3.5</td>\n",
       "      <td>Grammatical Range and Accuracy: - There are so...</td>\n",
       "      <td>3.5</td>\n",
       "      <td>Overall Band Score: - Considering the holistic...</td>\n",
       "      <td>4.0</td>\n",
       "      <td>19</td>\n",
       "    </tr>\n",
       "    <tr>\n",
       "      <th>8988</th>\n",
       "      <td>As well as making money, businesses also have ...</td>\n",
       "      <td>I believe that the main purpose of businesses ...</td>\n",
       "      <td>**Task Achievement:**\\n- The candidate has ade...</td>\n",
       "      <td>7.5</td>\n",
       "      <td>Task Achievement:** - The candidate has adequa...</td>\n",
       "      <td>7.0</td>\n",
       "      <td>Coherence and Cohesion:** - Transitions betwee...</td>\n",
       "      <td>7.0</td>\n",
       "      <td>Lexical Resource (Vocabulary):** - The candida...</td>\n",
       "      <td>7.0</td>\n",
       "      <td>Grammatical Range and Accuracy:** - Sentence s...</td>\n",
       "      <td>7.0</td>\n",
       "      <td>Overall Band Score:** - The essay demonstrates...</td>\n",
       "      <td>7.5</td>\n",
       "      <td>25</td>\n",
       "    </tr>\n",
       "  </tbody>\n",
       "</table>\n",
       "</div>"
      ],
      "text/plain": [
       "                                                 prompt  \\\n",
       "2646  Some people think that the government should e...   \n",
       "6034  Some people believe that eventually all jobs w...   \n",
       "3605  People nowadays tend to have children at older...   \n",
       "8527  Some people think that museums should be enjoy...   \n",
       "8988  As well as making money, businesses also have ...   \n",
       "\n",
       "                                                  essay  \\\n",
       "2646  In the modern world, there are opinions that t...   \n",
       "6034  These days, artificially intelligent robots ar...   \n",
       "3605  In the present world, many couples prefer to g...   \n",
       "8527  There has been much discussion revolving aroun...   \n",
       "8988  I believe that the main purpose of businesses ...   \n",
       "\n",
       "                                             evaluation band_score_old  \\\n",
       "2646  ## Task Achievement:\\nThe candidate has effect...  6.5\\r\\r\\r\\r\\r   \n",
       "6034  **Task Achievement:**\\n\\n- The essay adequatel...       <4\\r\\r\\r   \n",
       "3605  **Task Achievement: 4.5**\\n\\nThe essay address...        4.5\\r\\r   \n",
       "8527  ## Task Achievement:\\n- The candidate has adeq...            4\\r   \n",
       "8988  **Task Achievement:**\\n- The candidate has ade...            7.5   \n",
       "\n",
       "                           task_achievement_description  \\\n",
       "2646  Task Achievement: The candidate has effectivel...   \n",
       "6034  Task Achievement:** - The essay adequately add...   \n",
       "3605  Task Achievement: 4.5** The essay addresses th...   \n",
       "8527  Task Achievement: - The candidate has adequate...   \n",
       "8988  Task Achievement:** - The candidate has adequa...   \n",
       "\n",
       "      task_achievement_score  \\\n",
       "2646                     7.0   \n",
       "6034                     4.0   \n",
       "3605                     4.5   \n",
       "8527                     4.0   \n",
       "8988                     7.0   \n",
       "\n",
       "                     coherence_and_cohesion_description  \\\n",
       "2646  Coherence and Cohesion: The essay demonstrates...   \n",
       "6034  Coherence and Cohesion:** - The essay is gener...   \n",
       "3605  Coherence and Cohesion: 4.0** The essay is wel...   \n",
       "8527  Coherence and Cohesion: - Transitions between ...   \n",
       "8988  Coherence and Cohesion:** - Transitions betwee...   \n",
       "\n",
       "      coherence_and_cohesion_score  \\\n",
       "2646                           7.0   \n",
       "6034                           4.0   \n",
       "3605                           4.0   \n",
       "8527                           4.0   \n",
       "8988                           7.0   \n",
       "\n",
       "                           lexical_resource_description  \\\n",
       "2646  Lexical Resource (Vocabulary): The essay exhib...   \n",
       "6034  Lexical Resource (Vocabulary):** - The essay d...   \n",
       "3605  Lexical Resource (Vocabulary): 4.0** The write...   \n",
       "8527  Lexical Resource (Vocabulary): - The vocabular...   \n",
       "8988  Lexical Resource (Vocabulary):** - The candida...   \n",
       "\n",
       "      lexical_resource_score  \\\n",
       "2646                     6.5   \n",
       "6034                     3.5   \n",
       "3605                     4.0   \n",
       "8527                     3.5   \n",
       "8988                     7.0   \n",
       "\n",
       "             grammatical_range_and_accuracy_description  \\\n",
       "2646  Grammatical Range and Accuracy: The essay disp...   \n",
       "6034  Grammatical Range and Accuracy:** - The essay ...   \n",
       "3605  Grammatical Range and Accuracy: 4.0** The essa...   \n",
       "8527  Grammatical Range and Accuracy: - There are so...   \n",
       "8988  Grammatical Range and Accuracy:** - Sentence s...   \n",
       "\n",
       "      grammatical_range_and_accuracy_score  \\\n",
       "2646                                   6.0   \n",
       "6034                                   3.5   \n",
       "3605                                   4.0   \n",
       "8527                                   3.5   \n",
       "8988                                   7.0   \n",
       "\n",
       "                         overall_band_score_description  band_score  cluster  \n",
       "2646  Overall Band Score: **6.5** The essay demonstr...         6.5        3  \n",
       "6034  Overall Band Score:** Considering the holistic...         4.0        0  \n",
       "3605  Overall Band Score: 4.5** Overall, the essay i...         4.5        4  \n",
       "8527  Overall Band Score: - Considering the holistic...         4.0       19  \n",
       "8988  Overall Band Score:** - The essay demonstrates...         7.5       25  "
      ]
     },
     "execution_count": 4,
     "metadata": {},
     "output_type": "execute_result"
    }
   ],
   "source": [
    "csv_file = \"/data/clean_clustered_train.csv\"\n",
    "csv_file_path = project_root + csv_file\n",
    "print(csv_file_path)\n",
    "\n",
    "df = pd.read_csv(csv_file_path)\n",
    "df.sample(5)"
   ]
  },
  {
   "cell_type": "markdown",
   "metadata": {},
   "source": [
    "## Overall Band Score Distribution\n",
    "\n",
    "---"
   ]
  },
  {
   "cell_type": "markdown",
   "metadata": {},
   "source": [
    "### Basic Statistics\n",
    "\n",
    "Calculate and display fundamental statistics for the overall band score distribution, including mean, median, minimum, and maximum values."
   ]
  },
  {
   "cell_type": "code",
   "execution_count": 5,
   "metadata": {},
   "outputs": [
    {
     "name": "stdout",
     "output_type": "stream",
     "text": [
      "Mean band score: 6.25\n",
      "Median band score: 6.50\n",
      "Min band score: 4.00\n",
      "Max band score: 8.50\n"
     ]
    }
   ],
   "source": [
    "# Create a frequency count of band scores\n",
    "band_counts = df[\"band_score\"].value_counts().sort_index()\n",
    "\n",
    "# Get some basic statistics\n",
    "print(f\"Mean band score: {df['band_score'].mean():.2f}\")\n",
    "print(f\"Median band score: {df['band_score'].median():.2f}\")\n",
    "print(f\"Min band score: {df['band_score'].min():.2f}\")\n",
    "print(f\"Max band score: {df['band_score'].max():.2f}\")"
   ]
  },
  {
   "cell_type": "markdown",
   "metadata": {},
   "source": [
    "### Band Score Frequency Distribution\n",
    "\n",
    "Visualize the frequency distribution of band scores using a bar chart to understand the overall scoring patterns in the dataset."
   ]
  },
  {
   "cell_type": "code",
   "execution_count": 6,
   "metadata": {},
   "outputs": [
    {
     "data": {
      "application/vnd.plotly.v1+json": {
       "config": {
        "plotlyServerURL": "https://plot.ly"
       },
       "data": [
        {
         "hovertemplate": "variable=count<br>band_score=%{x}<br>value=%{y}<extra></extra>",
         "legendgroup": "count",
         "marker": {
          "color": "#636efa",
          "pattern": {
           "shape": ""
          }
         },
         "name": "count",
         "orientation": "v",
         "showlegend": true,
         "textposition": "auto",
         "type": "bar",
         "x": {
          "bdata": "AAAAAAAAEEAAAAAAAAASQAAAAAAAABRAAAAAAAAAFkAAAAAAAAAYQAAAAAAAABpAAAAAAAAAHEAAAAAAAAAeQAAAAAAAACBAAAAAAAAAIUA=",
          "dtype": "f8"
         },
         "xaxis": "x",
         "y": {
          "bdata": "UQMsAhwCeANfBdUFIwVyBOgBlgE=",
          "dtype": "i2"
         },
         "yaxis": "y"
        }
       ],
       "layout": {
        "barmode": "relative",
        "legend": {
         "title": {
          "text": "variable"
         },
         "tracegroupgap": 0
        },
        "margin": {
         "t": 60
        },
        "template": {
         "data": {
          "bar": [
           {
            "error_x": {
             "color": "#2a3f5f"
            },
            "error_y": {
             "color": "#2a3f5f"
            },
            "marker": {
             "line": {
              "color": "#E5ECF6",
              "width": 0.5
             },
             "pattern": {
              "fillmode": "overlay",
              "size": 10,
              "solidity": 0.2
             }
            },
            "type": "bar"
           }
          ],
          "barpolar": [
           {
            "marker": {
             "line": {
              "color": "#E5ECF6",
              "width": 0.5
             },
             "pattern": {
              "fillmode": "overlay",
              "size": 10,
              "solidity": 0.2
             }
            },
            "type": "barpolar"
           }
          ],
          "carpet": [
           {
            "aaxis": {
             "endlinecolor": "#2a3f5f",
             "gridcolor": "white",
             "linecolor": "white",
             "minorgridcolor": "white",
             "startlinecolor": "#2a3f5f"
            },
            "baxis": {
             "endlinecolor": "#2a3f5f",
             "gridcolor": "white",
             "linecolor": "white",
             "minorgridcolor": "white",
             "startlinecolor": "#2a3f5f"
            },
            "type": "carpet"
           }
          ],
          "choropleth": [
           {
            "colorbar": {
             "outlinewidth": 0,
             "ticks": ""
            },
            "type": "choropleth"
           }
          ],
          "contour": [
           {
            "colorbar": {
             "outlinewidth": 0,
             "ticks": ""
            },
            "colorscale": [
             [
              0,
              "#0d0887"
             ],
             [
              0.1111111111111111,
              "#46039f"
             ],
             [
              0.2222222222222222,
              "#7201a8"
             ],
             [
              0.3333333333333333,
              "#9c179e"
             ],
             [
              0.4444444444444444,
              "#bd3786"
             ],
             [
              0.5555555555555556,
              "#d8576b"
             ],
             [
              0.6666666666666666,
              "#ed7953"
             ],
             [
              0.7777777777777778,
              "#fb9f3a"
             ],
             [
              0.8888888888888888,
              "#fdca26"
             ],
             [
              1,
              "#f0f921"
             ]
            ],
            "type": "contour"
           }
          ],
          "contourcarpet": [
           {
            "colorbar": {
             "outlinewidth": 0,
             "ticks": ""
            },
            "type": "contourcarpet"
           }
          ],
          "heatmap": [
           {
            "colorbar": {
             "outlinewidth": 0,
             "ticks": ""
            },
            "colorscale": [
             [
              0,
              "#0d0887"
             ],
             [
              0.1111111111111111,
              "#46039f"
             ],
             [
              0.2222222222222222,
              "#7201a8"
             ],
             [
              0.3333333333333333,
              "#9c179e"
             ],
             [
              0.4444444444444444,
              "#bd3786"
             ],
             [
              0.5555555555555556,
              "#d8576b"
             ],
             [
              0.6666666666666666,
              "#ed7953"
             ],
             [
              0.7777777777777778,
              "#fb9f3a"
             ],
             [
              0.8888888888888888,
              "#fdca26"
             ],
             [
              1,
              "#f0f921"
             ]
            ],
            "type": "heatmap"
           }
          ],
          "histogram": [
           {
            "marker": {
             "pattern": {
              "fillmode": "overlay",
              "size": 10,
              "solidity": 0.2
             }
            },
            "type": "histogram"
           }
          ],
          "histogram2d": [
           {
            "colorbar": {
             "outlinewidth": 0,
             "ticks": ""
            },
            "colorscale": [
             [
              0,
              "#0d0887"
             ],
             [
              0.1111111111111111,
              "#46039f"
             ],
             [
              0.2222222222222222,
              "#7201a8"
             ],
             [
              0.3333333333333333,
              "#9c179e"
             ],
             [
              0.4444444444444444,
              "#bd3786"
             ],
             [
              0.5555555555555556,
              "#d8576b"
             ],
             [
              0.6666666666666666,
              "#ed7953"
             ],
             [
              0.7777777777777778,
              "#fb9f3a"
             ],
             [
              0.8888888888888888,
              "#fdca26"
             ],
             [
              1,
              "#f0f921"
             ]
            ],
            "type": "histogram2d"
           }
          ],
          "histogram2dcontour": [
           {
            "colorbar": {
             "outlinewidth": 0,
             "ticks": ""
            },
            "colorscale": [
             [
              0,
              "#0d0887"
             ],
             [
              0.1111111111111111,
              "#46039f"
             ],
             [
              0.2222222222222222,
              "#7201a8"
             ],
             [
              0.3333333333333333,
              "#9c179e"
             ],
             [
              0.4444444444444444,
              "#bd3786"
             ],
             [
              0.5555555555555556,
              "#d8576b"
             ],
             [
              0.6666666666666666,
              "#ed7953"
             ],
             [
              0.7777777777777778,
              "#fb9f3a"
             ],
             [
              0.8888888888888888,
              "#fdca26"
             ],
             [
              1,
              "#f0f921"
             ]
            ],
            "type": "histogram2dcontour"
           }
          ],
          "mesh3d": [
           {
            "colorbar": {
             "outlinewidth": 0,
             "ticks": ""
            },
            "type": "mesh3d"
           }
          ],
          "parcoords": [
           {
            "line": {
             "colorbar": {
              "outlinewidth": 0,
              "ticks": ""
             }
            },
            "type": "parcoords"
           }
          ],
          "pie": [
           {
            "automargin": true,
            "type": "pie"
           }
          ],
          "scatter": [
           {
            "fillpattern": {
             "fillmode": "overlay",
             "size": 10,
             "solidity": 0.2
            },
            "type": "scatter"
           }
          ],
          "scatter3d": [
           {
            "line": {
             "colorbar": {
              "outlinewidth": 0,
              "ticks": ""
             }
            },
            "marker": {
             "colorbar": {
              "outlinewidth": 0,
              "ticks": ""
             }
            },
            "type": "scatter3d"
           }
          ],
          "scattercarpet": [
           {
            "marker": {
             "colorbar": {
              "outlinewidth": 0,
              "ticks": ""
             }
            },
            "type": "scattercarpet"
           }
          ],
          "scattergeo": [
           {
            "marker": {
             "colorbar": {
              "outlinewidth": 0,
              "ticks": ""
             }
            },
            "type": "scattergeo"
           }
          ],
          "scattergl": [
           {
            "marker": {
             "colorbar": {
              "outlinewidth": 0,
              "ticks": ""
             }
            },
            "type": "scattergl"
           }
          ],
          "scattermap": [
           {
            "marker": {
             "colorbar": {
              "outlinewidth": 0,
              "ticks": ""
             }
            },
            "type": "scattermap"
           }
          ],
          "scattermapbox": [
           {
            "marker": {
             "colorbar": {
              "outlinewidth": 0,
              "ticks": ""
             }
            },
            "type": "scattermapbox"
           }
          ],
          "scatterpolar": [
           {
            "marker": {
             "colorbar": {
              "outlinewidth": 0,
              "ticks": ""
             }
            },
            "type": "scatterpolar"
           }
          ],
          "scatterpolargl": [
           {
            "marker": {
             "colorbar": {
              "outlinewidth": 0,
              "ticks": ""
             }
            },
            "type": "scatterpolargl"
           }
          ],
          "scatterternary": [
           {
            "marker": {
             "colorbar": {
              "outlinewidth": 0,
              "ticks": ""
             }
            },
            "type": "scatterternary"
           }
          ],
          "surface": [
           {
            "colorbar": {
             "outlinewidth": 0,
             "ticks": ""
            },
            "colorscale": [
             [
              0,
              "#0d0887"
             ],
             [
              0.1111111111111111,
              "#46039f"
             ],
             [
              0.2222222222222222,
              "#7201a8"
             ],
             [
              0.3333333333333333,
              "#9c179e"
             ],
             [
              0.4444444444444444,
              "#bd3786"
             ],
             [
              0.5555555555555556,
              "#d8576b"
             ],
             [
              0.6666666666666666,
              "#ed7953"
             ],
             [
              0.7777777777777778,
              "#fb9f3a"
             ],
             [
              0.8888888888888888,
              "#fdca26"
             ],
             [
              1,
              "#f0f921"
             ]
            ],
            "type": "surface"
           }
          ],
          "table": [
           {
            "cells": {
             "fill": {
              "color": "#EBF0F8"
             },
             "line": {
              "color": "white"
             }
            },
            "header": {
             "fill": {
              "color": "#C8D4E3"
             },
             "line": {
              "color": "white"
             }
            },
            "type": "table"
           }
          ]
         },
         "layout": {
          "annotationdefaults": {
           "arrowcolor": "#2a3f5f",
           "arrowhead": 0,
           "arrowwidth": 1
          },
          "autotypenumbers": "strict",
          "coloraxis": {
           "colorbar": {
            "outlinewidth": 0,
            "ticks": ""
           }
          },
          "colorscale": {
           "diverging": [
            [
             0,
             "#8e0152"
            ],
            [
             0.1,
             "#c51b7d"
            ],
            [
             0.2,
             "#de77ae"
            ],
            [
             0.3,
             "#f1b6da"
            ],
            [
             0.4,
             "#fde0ef"
            ],
            [
             0.5,
             "#f7f7f7"
            ],
            [
             0.6,
             "#e6f5d0"
            ],
            [
             0.7,
             "#b8e186"
            ],
            [
             0.8,
             "#7fbc41"
            ],
            [
             0.9,
             "#4d9221"
            ],
            [
             1,
             "#276419"
            ]
           ],
           "sequential": [
            [
             0,
             "#0d0887"
            ],
            [
             0.1111111111111111,
             "#46039f"
            ],
            [
             0.2222222222222222,
             "#7201a8"
            ],
            [
             0.3333333333333333,
             "#9c179e"
            ],
            [
             0.4444444444444444,
             "#bd3786"
            ],
            [
             0.5555555555555556,
             "#d8576b"
            ],
            [
             0.6666666666666666,
             "#ed7953"
            ],
            [
             0.7777777777777778,
             "#fb9f3a"
            ],
            [
             0.8888888888888888,
             "#fdca26"
            ],
            [
             1,
             "#f0f921"
            ]
           ],
           "sequentialminus": [
            [
             0,
             "#0d0887"
            ],
            [
             0.1111111111111111,
             "#46039f"
            ],
            [
             0.2222222222222222,
             "#7201a8"
            ],
            [
             0.3333333333333333,
             "#9c179e"
            ],
            [
             0.4444444444444444,
             "#bd3786"
            ],
            [
             0.5555555555555556,
             "#d8576b"
            ],
            [
             0.6666666666666666,
             "#ed7953"
            ],
            [
             0.7777777777777778,
             "#fb9f3a"
            ],
            [
             0.8888888888888888,
             "#fdca26"
            ],
            [
             1,
             "#f0f921"
            ]
           ]
          },
          "colorway": [
           "#636efa",
           "#EF553B",
           "#00cc96",
           "#ab63fa",
           "#FFA15A",
           "#19d3f3",
           "#FF6692",
           "#B6E880",
           "#FF97FF",
           "#FECB52"
          ],
          "font": {
           "color": "#2a3f5f"
          },
          "geo": {
           "bgcolor": "white",
           "lakecolor": "white",
           "landcolor": "#E5ECF6",
           "showlakes": true,
           "showland": true,
           "subunitcolor": "white"
          },
          "hoverlabel": {
           "align": "left"
          },
          "hovermode": "closest",
          "mapbox": {
           "style": "light"
          },
          "paper_bgcolor": "white",
          "plot_bgcolor": "#E5ECF6",
          "polar": {
           "angularaxis": {
            "gridcolor": "white",
            "linecolor": "white",
            "ticks": ""
           },
           "bgcolor": "#E5ECF6",
           "radialaxis": {
            "gridcolor": "white",
            "linecolor": "white",
            "ticks": ""
           }
          },
          "scene": {
           "xaxis": {
            "backgroundcolor": "#E5ECF6",
            "gridcolor": "white",
            "gridwidth": 2,
            "linecolor": "white",
            "showbackground": true,
            "ticks": "",
            "zerolinecolor": "white"
           },
           "yaxis": {
            "backgroundcolor": "#E5ECF6",
            "gridcolor": "white",
            "gridwidth": 2,
            "linecolor": "white",
            "showbackground": true,
            "ticks": "",
            "zerolinecolor": "white"
           },
           "zaxis": {
            "backgroundcolor": "#E5ECF6",
            "gridcolor": "white",
            "gridwidth": 2,
            "linecolor": "white",
            "showbackground": true,
            "ticks": "",
            "zerolinecolor": "white"
           }
          },
          "shapedefaults": {
           "line": {
            "color": "#2a3f5f"
           }
          },
          "ternary": {
           "aaxis": {
            "gridcolor": "white",
            "linecolor": "white",
            "ticks": ""
           },
           "baxis": {
            "gridcolor": "white",
            "linecolor": "white",
            "ticks": ""
           },
           "bgcolor": "#E5ECF6",
           "caxis": {
            "gridcolor": "white",
            "linecolor": "white",
            "ticks": ""
           }
          },
          "title": {
           "x": 0.05
          },
          "xaxis": {
           "automargin": true,
           "gridcolor": "white",
           "linecolor": "white",
           "ticks": "",
           "title": {
            "standoff": 15
           },
           "zerolinecolor": "white",
           "zerolinewidth": 2
          },
          "yaxis": {
           "automargin": true,
           "gridcolor": "white",
           "linecolor": "white",
           "ticks": "",
           "title": {
            "standoff": 15
           },
           "zerolinecolor": "white",
           "zerolinewidth": 2
          }
         }
        },
        "xaxis": {
         "anchor": "y",
         "domain": [
          0,
          1
         ],
         "title": {
          "text": "band_score"
         }
        },
        "yaxis": {
         "anchor": "x",
         "domain": [
          0,
          1
         ],
         "title": {
          "text": "value"
         }
        }
       }
      }
     },
     "metadata": {},
     "output_type": "display_data"
    }
   ],
   "source": [
    "band_counts.plot(kind=\"bar\")"
   ]
  },
  {
   "cell_type": "markdown",
   "metadata": {},
   "source": [
    "## Cluster-Based Difficulty Analysis\n",
    "\n",
    "---"
   ]
  },
  {
   "cell_type": "markdown",
   "metadata": {},
   "source": [
    "### Average Band Scores by Prompt Cluster\n",
    "\n",
    "Calculate mean, count, and standard deviation of band scores for each prompt cluster, then rank clusters from highest to lowest average scores to identify easier and more difficult question types."
   ]
  },
  {
   "cell_type": "code",
   "execution_count": 7,
   "metadata": {},
   "outputs": [
    {
     "name": "stdout",
     "output_type": "stream",
     "text": [
      "Number of clusters: 30\n",
      "\n",
      "Top 5 highest-scoring clusters:\n",
      "    cluster      mean  count       std\n",
      "28       28  6.460938    192  1.243743\n",
      "17       17  6.413043    207  1.245253\n",
      "8         8  6.392544    456  1.204602\n",
      "18       18  6.386441    295  1.162694\n",
      "20       20  6.377432    257  1.254506\n",
      "\n",
      "Bottom 5 lowest-scoring clusters:\n",
      "    cluster      mean  count       std\n",
      "2         2  6.134568    405  1.217565\n",
      "11       11  6.120763    236  1.239952\n",
      "14       14  6.111399    193  1.319633\n",
      "16       16  6.092014    576  1.204429\n",
      "19       19  6.041475    217  1.205940\n"
     ]
    }
   ],
   "source": [
    "cluster_avg = (\n",
    "    df.groupby(\"cluster\")[\"band_score\"].agg([\"mean\", \"count\", \"std\"]).reset_index()\n",
    ")\n",
    "cluster_avg = cluster_avg.sort_values(\"mean\", ascending=False)\n",
    "\n",
    "print(f\"Number of clusters: {len(cluster_avg)}\")\n",
    "print(\"\\nTop 5 highest-scoring clusters:\")\n",
    "print(cluster_avg.head(5))\n",
    "print(\"\\nBottom 5 lowest-scoring clusters:\")\n",
    "print(cluster_avg.tail(5))"
   ]
  },
  {
   "cell_type": "markdown",
   "metadata": {},
   "source": [
    "### Barplot of the Mean Band Score per Prompt Cluster"
   ]
  },
  {
   "cell_type": "code",
   "execution_count": 8,
   "metadata": {},
   "outputs": [
    {
     "data": {
      "application/vnd.plotly.v1+json": {
       "config": {
        "plotlyServerURL": "https://plot.ly"
       },
       "data": [
        {
         "marker": {
          "color": "lightblue"
         },
         "name": "Mean Band Score",
         "opacity": 0.8,
         "type": "bar",
         "x": [
          "19",
          "16",
          "14",
          "11",
          "2",
          "27",
          "10",
          "22",
          "4",
          "3",
          "12",
          "29",
          "21",
          "6",
          "0",
          "5",
          "7",
          "9",
          "26",
          "23",
          "13",
          "24",
          "1",
          "15",
          "25",
          "20",
          "18",
          "8",
          "17",
          "28"
         ],
         "y": {
          "bdata": "4anwVHgqGEDkOI7jOF4YQNYf6JESchhAtiJoOKl7GEBHk/sqzIkYQHsJ7SW0lxhANte7CtyeGEAeOoYX56EYQFlT1pQ1pRhAq9mTfB+rGEAQ/MAP/MAYQJZ9DqkJxhhAkxDFX+QMGUD3VmmKXxIZQAk1mbrFHhlAmrMGxdMeGUAkb0PyNiQZQCeaaKKJJhlAKaWUUkopGUBA//zzzz8ZQC2s9NTCShlAajbs72JQGUBzlTSqLVcZQJIkSZIkaRlAhS83xIB0GUB+gn2CfYIZQHrV5hq3ixlAH8F9BPeRGUB605ve9KYZQAAAAAAA2BlA",
          "dtype": "f8"
         }
        }
       ],
       "layout": {
        "height": 600,
        "showlegend": false,
        "template": {
         "data": {
          "bar": [
           {
            "error_x": {
             "color": "#2a3f5f"
            },
            "error_y": {
             "color": "#2a3f5f"
            },
            "marker": {
             "line": {
              "color": "#E5ECF6",
              "width": 0.5
             },
             "pattern": {
              "fillmode": "overlay",
              "size": 10,
              "solidity": 0.2
             }
            },
            "type": "bar"
           }
          ],
          "barpolar": [
           {
            "marker": {
             "line": {
              "color": "#E5ECF6",
              "width": 0.5
             },
             "pattern": {
              "fillmode": "overlay",
              "size": 10,
              "solidity": 0.2
             }
            },
            "type": "barpolar"
           }
          ],
          "carpet": [
           {
            "aaxis": {
             "endlinecolor": "#2a3f5f",
             "gridcolor": "white",
             "linecolor": "white",
             "minorgridcolor": "white",
             "startlinecolor": "#2a3f5f"
            },
            "baxis": {
             "endlinecolor": "#2a3f5f",
             "gridcolor": "white",
             "linecolor": "white",
             "minorgridcolor": "white",
             "startlinecolor": "#2a3f5f"
            },
            "type": "carpet"
           }
          ],
          "choropleth": [
           {
            "colorbar": {
             "outlinewidth": 0,
             "ticks": ""
            },
            "type": "choropleth"
           }
          ],
          "contour": [
           {
            "colorbar": {
             "outlinewidth": 0,
             "ticks": ""
            },
            "colorscale": [
             [
              0,
              "#0d0887"
             ],
             [
              0.1111111111111111,
              "#46039f"
             ],
             [
              0.2222222222222222,
              "#7201a8"
             ],
             [
              0.3333333333333333,
              "#9c179e"
             ],
             [
              0.4444444444444444,
              "#bd3786"
             ],
             [
              0.5555555555555556,
              "#d8576b"
             ],
             [
              0.6666666666666666,
              "#ed7953"
             ],
             [
              0.7777777777777778,
              "#fb9f3a"
             ],
             [
              0.8888888888888888,
              "#fdca26"
             ],
             [
              1,
              "#f0f921"
             ]
            ],
            "type": "contour"
           }
          ],
          "contourcarpet": [
           {
            "colorbar": {
             "outlinewidth": 0,
             "ticks": ""
            },
            "type": "contourcarpet"
           }
          ],
          "heatmap": [
           {
            "colorbar": {
             "outlinewidth": 0,
             "ticks": ""
            },
            "colorscale": [
             [
              0,
              "#0d0887"
             ],
             [
              0.1111111111111111,
              "#46039f"
             ],
             [
              0.2222222222222222,
              "#7201a8"
             ],
             [
              0.3333333333333333,
              "#9c179e"
             ],
             [
              0.4444444444444444,
              "#bd3786"
             ],
             [
              0.5555555555555556,
              "#d8576b"
             ],
             [
              0.6666666666666666,
              "#ed7953"
             ],
             [
              0.7777777777777778,
              "#fb9f3a"
             ],
             [
              0.8888888888888888,
              "#fdca26"
             ],
             [
              1,
              "#f0f921"
             ]
            ],
            "type": "heatmap"
           }
          ],
          "histogram": [
           {
            "marker": {
             "pattern": {
              "fillmode": "overlay",
              "size": 10,
              "solidity": 0.2
             }
            },
            "type": "histogram"
           }
          ],
          "histogram2d": [
           {
            "colorbar": {
             "outlinewidth": 0,
             "ticks": ""
            },
            "colorscale": [
             [
              0,
              "#0d0887"
             ],
             [
              0.1111111111111111,
              "#46039f"
             ],
             [
              0.2222222222222222,
              "#7201a8"
             ],
             [
              0.3333333333333333,
              "#9c179e"
             ],
             [
              0.4444444444444444,
              "#bd3786"
             ],
             [
              0.5555555555555556,
              "#d8576b"
             ],
             [
              0.6666666666666666,
              "#ed7953"
             ],
             [
              0.7777777777777778,
              "#fb9f3a"
             ],
             [
              0.8888888888888888,
              "#fdca26"
             ],
             [
              1,
              "#f0f921"
             ]
            ],
            "type": "histogram2d"
           }
          ],
          "histogram2dcontour": [
           {
            "colorbar": {
             "outlinewidth": 0,
             "ticks": ""
            },
            "colorscale": [
             [
              0,
              "#0d0887"
             ],
             [
              0.1111111111111111,
              "#46039f"
             ],
             [
              0.2222222222222222,
              "#7201a8"
             ],
             [
              0.3333333333333333,
              "#9c179e"
             ],
             [
              0.4444444444444444,
              "#bd3786"
             ],
             [
              0.5555555555555556,
              "#d8576b"
             ],
             [
              0.6666666666666666,
              "#ed7953"
             ],
             [
              0.7777777777777778,
              "#fb9f3a"
             ],
             [
              0.8888888888888888,
              "#fdca26"
             ],
             [
              1,
              "#f0f921"
             ]
            ],
            "type": "histogram2dcontour"
           }
          ],
          "mesh3d": [
           {
            "colorbar": {
             "outlinewidth": 0,
             "ticks": ""
            },
            "type": "mesh3d"
           }
          ],
          "parcoords": [
           {
            "line": {
             "colorbar": {
              "outlinewidth": 0,
              "ticks": ""
             }
            },
            "type": "parcoords"
           }
          ],
          "pie": [
           {
            "automargin": true,
            "type": "pie"
           }
          ],
          "scatter": [
           {
            "fillpattern": {
             "fillmode": "overlay",
             "size": 10,
             "solidity": 0.2
            },
            "type": "scatter"
           }
          ],
          "scatter3d": [
           {
            "line": {
             "colorbar": {
              "outlinewidth": 0,
              "ticks": ""
             }
            },
            "marker": {
             "colorbar": {
              "outlinewidth": 0,
              "ticks": ""
             }
            },
            "type": "scatter3d"
           }
          ],
          "scattercarpet": [
           {
            "marker": {
             "colorbar": {
              "outlinewidth": 0,
              "ticks": ""
             }
            },
            "type": "scattercarpet"
           }
          ],
          "scattergeo": [
           {
            "marker": {
             "colorbar": {
              "outlinewidth": 0,
              "ticks": ""
             }
            },
            "type": "scattergeo"
           }
          ],
          "scattergl": [
           {
            "marker": {
             "colorbar": {
              "outlinewidth": 0,
              "ticks": ""
             }
            },
            "type": "scattergl"
           }
          ],
          "scattermap": [
           {
            "marker": {
             "colorbar": {
              "outlinewidth": 0,
              "ticks": ""
             }
            },
            "type": "scattermap"
           }
          ],
          "scattermapbox": [
           {
            "marker": {
             "colorbar": {
              "outlinewidth": 0,
              "ticks": ""
             }
            },
            "type": "scattermapbox"
           }
          ],
          "scatterpolar": [
           {
            "marker": {
             "colorbar": {
              "outlinewidth": 0,
              "ticks": ""
             }
            },
            "type": "scatterpolar"
           }
          ],
          "scatterpolargl": [
           {
            "marker": {
             "colorbar": {
              "outlinewidth": 0,
              "ticks": ""
             }
            },
            "type": "scatterpolargl"
           }
          ],
          "scatterternary": [
           {
            "marker": {
             "colorbar": {
              "outlinewidth": 0,
              "ticks": ""
             }
            },
            "type": "scatterternary"
           }
          ],
          "surface": [
           {
            "colorbar": {
             "outlinewidth": 0,
             "ticks": ""
            },
            "colorscale": [
             [
              0,
              "#0d0887"
             ],
             [
              0.1111111111111111,
              "#46039f"
             ],
             [
              0.2222222222222222,
              "#7201a8"
             ],
             [
              0.3333333333333333,
              "#9c179e"
             ],
             [
              0.4444444444444444,
              "#bd3786"
             ],
             [
              0.5555555555555556,
              "#d8576b"
             ],
             [
              0.6666666666666666,
              "#ed7953"
             ],
             [
              0.7777777777777778,
              "#fb9f3a"
             ],
             [
              0.8888888888888888,
              "#fdca26"
             ],
             [
              1,
              "#f0f921"
             ]
            ],
            "type": "surface"
           }
          ],
          "table": [
           {
            "cells": {
             "fill": {
              "color": "#EBF0F8"
             },
             "line": {
              "color": "white"
             }
            },
            "header": {
             "fill": {
              "color": "#C8D4E3"
             },
             "line": {
              "color": "white"
             }
            },
            "type": "table"
           }
          ]
         },
         "layout": {
          "annotationdefaults": {
           "arrowcolor": "#2a3f5f",
           "arrowhead": 0,
           "arrowwidth": 1
          },
          "autotypenumbers": "strict",
          "coloraxis": {
           "colorbar": {
            "outlinewidth": 0,
            "ticks": ""
           }
          },
          "colorscale": {
           "diverging": [
            [
             0,
             "#8e0152"
            ],
            [
             0.1,
             "#c51b7d"
            ],
            [
             0.2,
             "#de77ae"
            ],
            [
             0.3,
             "#f1b6da"
            ],
            [
             0.4,
             "#fde0ef"
            ],
            [
             0.5,
             "#f7f7f7"
            ],
            [
             0.6,
             "#e6f5d0"
            ],
            [
             0.7,
             "#b8e186"
            ],
            [
             0.8,
             "#7fbc41"
            ],
            [
             0.9,
             "#4d9221"
            ],
            [
             1,
             "#276419"
            ]
           ],
           "sequential": [
            [
             0,
             "#0d0887"
            ],
            [
             0.1111111111111111,
             "#46039f"
            ],
            [
             0.2222222222222222,
             "#7201a8"
            ],
            [
             0.3333333333333333,
             "#9c179e"
            ],
            [
             0.4444444444444444,
             "#bd3786"
            ],
            [
             0.5555555555555556,
             "#d8576b"
            ],
            [
             0.6666666666666666,
             "#ed7953"
            ],
            [
             0.7777777777777778,
             "#fb9f3a"
            ],
            [
             0.8888888888888888,
             "#fdca26"
            ],
            [
             1,
             "#f0f921"
            ]
           ],
           "sequentialminus": [
            [
             0,
             "#0d0887"
            ],
            [
             0.1111111111111111,
             "#46039f"
            ],
            [
             0.2222222222222222,
             "#7201a8"
            ],
            [
             0.3333333333333333,
             "#9c179e"
            ],
            [
             0.4444444444444444,
             "#bd3786"
            ],
            [
             0.5555555555555556,
             "#d8576b"
            ],
            [
             0.6666666666666666,
             "#ed7953"
            ],
            [
             0.7777777777777778,
             "#fb9f3a"
            ],
            [
             0.8888888888888888,
             "#fdca26"
            ],
            [
             1,
             "#f0f921"
            ]
           ]
          },
          "colorway": [
           "#636efa",
           "#EF553B",
           "#00cc96",
           "#ab63fa",
           "#FFA15A",
           "#19d3f3",
           "#FF6692",
           "#B6E880",
           "#FF97FF",
           "#FECB52"
          ],
          "font": {
           "color": "#2a3f5f"
          },
          "geo": {
           "bgcolor": "white",
           "lakecolor": "white",
           "landcolor": "#E5ECF6",
           "showlakes": true,
           "showland": true,
           "subunitcolor": "white"
          },
          "hoverlabel": {
           "align": "left"
          },
          "hovermode": "closest",
          "mapbox": {
           "style": "light"
          },
          "paper_bgcolor": "white",
          "plot_bgcolor": "#E5ECF6",
          "polar": {
           "angularaxis": {
            "gridcolor": "white",
            "linecolor": "white",
            "ticks": ""
           },
           "bgcolor": "#E5ECF6",
           "radialaxis": {
            "gridcolor": "white",
            "linecolor": "white",
            "ticks": ""
           }
          },
          "scene": {
           "xaxis": {
            "backgroundcolor": "#E5ECF6",
            "gridcolor": "white",
            "gridwidth": 2,
            "linecolor": "white",
            "showbackground": true,
            "ticks": "",
            "zerolinecolor": "white"
           },
           "yaxis": {
            "backgroundcolor": "#E5ECF6",
            "gridcolor": "white",
            "gridwidth": 2,
            "linecolor": "white",
            "showbackground": true,
            "ticks": "",
            "zerolinecolor": "white"
           },
           "zaxis": {
            "backgroundcolor": "#E5ECF6",
            "gridcolor": "white",
            "gridwidth": 2,
            "linecolor": "white",
            "showbackground": true,
            "ticks": "",
            "zerolinecolor": "white"
           }
          },
          "shapedefaults": {
           "line": {
            "color": "#2a3f5f"
           }
          },
          "ternary": {
           "aaxis": {
            "gridcolor": "white",
            "linecolor": "white",
            "ticks": ""
           },
           "baxis": {
            "gridcolor": "white",
            "linecolor": "white",
            "ticks": ""
           },
           "bgcolor": "#E5ECF6",
           "caxis": {
            "gridcolor": "white",
            "linecolor": "white",
            "ticks": ""
           }
          },
          "title": {
           "x": 0.05
          },
          "xaxis": {
           "automargin": true,
           "gridcolor": "white",
           "linecolor": "white",
           "ticks": "",
           "title": {
            "standoff": 15
           },
           "zerolinecolor": "white",
           "zerolinewidth": 2
          },
          "yaxis": {
           "automargin": true,
           "gridcolor": "white",
           "linecolor": "white",
           "ticks": "",
           "title": {
            "standoff": 15
           },
           "zerolinecolor": "white",
           "zerolinewidth": 2
          }
         }
        },
        "title": {
         "text": "Mean Band Scores by Prompt Cluster (Sorted by Mean Score)"
        },
        "width": 1000,
        "xaxis": {
         "title": {
          "text": "Cluster ID"
         }
        },
        "yaxis": {
         "title": {
          "text": "Mean Band Score"
         }
        }
       }
      }
     },
     "metadata": {},
     "output_type": "display_data"
    }
   ],
   "source": [
    "# Calculate mean by cluster, sorted by mean band score (highest to lowest)\n",
    "cluster_stats = df.groupby(\"cluster\")[\"band_score\"].agg([\"mean\", \"count\"]).reset_index()\n",
    "cluster_stats = cluster_stats.sort_values(\"mean\", ascending=True)\n",
    "cluster_stats[\"cluster\"] = cluster_stats[\"cluster\"].astype(str)\n",
    "cluster_stats[\"cluster\"] = pd.Categorical(\n",
    "    cluster_stats[\"cluster\"], categories=cluster_stats[\"cluster\"], ordered=True\n",
    ")\n",
    "\n",
    "# Create figure\n",
    "import plotly.graph_objects as go\n",
    "\n",
    "fig = go.Figure()\n",
    "\n",
    "# Add mean bars\n",
    "fig.add_trace(\n",
    "    go.Bar(\n",
    "        x=cluster_stats[\"cluster\"],\n",
    "        y=cluster_stats[\"mean\"],\n",
    "        name=\"Mean Band Score\",\n",
    "        marker_color=\"lightblue\",\n",
    "        opacity=0.8,\n",
    "    )\n",
    ")\n",
    "\n",
    "# Set axis titles\n",
    "fig.update_xaxes(title_text=\"Cluster ID\")\n",
    "fig.update_yaxes(title_text=\"Mean Band Score\")\n",
    "\n",
    "# Update layout\n",
    "fig.update_layout(\n",
    "    title=\"Mean Band Scores by Prompt Cluster (Sorted by Mean Score)\",\n",
    "    width=1000,\n",
    "    height=600,\n",
    "    showlegend=False,\n",
    ")\n",
    "\n",
    "fig.show()"
   ]
  },
  {
   "cell_type": "markdown",
   "metadata": {},
   "source": [
    "## Question Type Examples\n",
    "\n",
    "---"
   ]
  },
  {
   "cell_type": "markdown",
   "metadata": {},
   "source": [
    "### Easiest Question Type (Cluster 19)\n",
    "\n",
    "Display a sample prompt and essay from the highest-scoring cluster to illustrate the characteristics of easier question types. This cluster focuses on government spending on arts vs. health/education."
   ]
  },
  {
   "cell_type": "code",
   "execution_count": 9,
   "metadata": {},
   "outputs": [
    {
     "name": "stdout",
     "output_type": "stream",
     "text": [
      "Prompt: \n",
      "Some people think that museums should be enjoyable places to entertain people, while others believe that the purpose of museums is to educate. Discuss both views and give your own opinion.\n",
      "\n",
      "Essay: \n",
      "People have views that museums should focus on entertainment, while there are some opponents who argue that the main function of museums is education. I believe that museums should have both two points. On the one hand, it can be argued that the main role of museums should be entertained. The reason why for this is that museums usually collect a variety of exhibitions that attract considerable tourists who want to see these objects. And then, if museums only give visitors the dull data, such as figures, texts and the others to introduce these exhibits, people will become tired and bored quickly. As a result, they may not be interested in museums any more. That is why currently some museums provide some enjoyable facilities such as toys, VR glasses and 3D movies to improve museums' entertaining in order to increase their attraction. On the other hand, some people think that museums should be a place where visitors learn knowledge. Generally, the data that is given by museums about the exhibits is accurate and objective, so it is easy for guests to get information from through these exhibits and the information is reliable. A good example of this is that foreign tourists who want to study or to understand the local knowledge about history, culture and technology usually go to the national museum. Therefore, the educational role of museums should not be ignored. In conclusion, there are convincing arguments about the museums' functionality. In my view, museums should be both enjoyable and educational.\n"
     ]
    }
   ],
   "source": [
    "cluster_19 = df[df[\"cluster\"] == 19]\n",
    "\n",
    "sample = cluster_19.sample(1).iloc[0]\n",
    "print(\"Prompt: \")\n",
    "print(sample[\"prompt\"])\n",
    "print(\"\\nEssay: \")\n",
    "print(sample[\"essay\"])"
   ]
  },
  {
   "cell_type": "markdown",
   "metadata": {},
   "source": [
    "### Most Difficult Question Type (Cluster 19)\n",
    "\n",
    "Show a sample prompt and essay from the lowest-scoring cluster to demonstrate the features of more challenging question types. This cluster deals with the purpose of museums (entertainment vs. education)."
   ]
  },
  {
   "cell_type": "code",
   "execution_count": 10,
   "metadata": {},
   "outputs": [
    {
     "name": "stdout",
     "output_type": "stream",
     "text": [
      "Prompt: \n",
      "Some people think that illegal internet download are having a negative effect on the music industry. Others feel that they have little or no impact on artists. Discuss both views and give own opinion.\n",
      "\n",
      "Essay: \n",
      "Since the introduction of the internet, people have always debated whether the illegal usage of such technologies will outweigh the advances it will bring forth. One of the main topics to talk about is the music industry. It is clear that no matter what is done unauthorized usage of tracks can not be controlled, yet the question that remains is \"Does it have a profound effect on the whole industry?\". Firstly, it should be noted that the phenomenon definitely has a negative sum result. Some people stand behind the idea that such actions will hurt the music. The line of thought they have is, that if an artist is making less money as a result of an individual not paying to buy the track, they will have less to produce the next one. This is true, especially in the case of newcomers to the business. They are the ones at the highest risk since they cannot make enough capital to go on if similar actions go on. On the other hand, it can be said that while the negative consequences are clear, there is little that change they bring. This is the result of two main factors. The major one is, the consumer who uses such methods. As a recent internet analysis showed, most of the illegal downloaders are from poorer countries ,who normally cannot afford to pay for songs. This translates to almost no income lost since the person who got the song through illegal means wouldn't have paid for it anyway. Moreover, On another side of the issue, lies the publicity of the artist who would not have made it if these smaller songs didn't go around so much. For instance, we can look at the case of WestGhoust, a singer who made sure his songs could not be attained through such measures. His career did not bloom as well as it should have, showing the fault in his way. To conclude, we have to pay attention to the unequal distribution of capital and its effects on the music industry. In my opinion, it can easily be made clear ,that the little amount of cash lost wouldn't have made a considerable impact on any artist.\n"
     ]
    }
   ],
   "source": [
    "cluster_28 = df[df[\"cluster\"] == 28]\n",
    "\n",
    "sample = cluster_28.sample(1).iloc[0]\n",
    "print(\"Prompt: \")\n",
    "print(sample[\"prompt\"])\n",
    "print(\"\\nEssay: \")\n",
    "print(sample[\"essay\"])"
   ]
  },
  {
   "cell_type": "markdown",
   "metadata": {},
   "source": [
    "### [`Click here to go back to the Homepage`](../Homepage.md)"
   ]
  }
 ],
 "metadata": {
  "kernelspec": {
   "display_name": ".env",
   "language": "python",
   "name": "python3"
  },
  "language_info": {
   "codemirror_mode": {
    "name": "ipython",
    "version": 3
   },
   "file_extension": ".py",
   "mimetype": "text/x-python",
   "name": "python",
   "nbconvert_exporter": "python",
   "pygments_lexer": "ipython3",
   "version": "3.12.2"
  }
 },
 "nbformat": 4,
 "nbformat_minor": 2
}
